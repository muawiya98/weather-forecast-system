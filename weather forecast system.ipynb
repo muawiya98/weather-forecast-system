{
 "cells": [
  {
   "cell_type": "code",
   "execution_count": 54,
   "metadata": {},
   "outputs": [],
   "source": [
    "import numpy as np  \n",
    "import pandas as pd\n",
    "%matplotlib inline\n",
    "import matplotlib\n",
    "import matplotlib.pyplot as plt\n",
    "from sklearn.model_selection import train_test_split\n",
    "from sklearn.linear_model import LogisticRegression\n",
    "from sklearn.dummy import DummyClassifier\n",
    "from sklearn.metrics import confusion_matrix\n",
    "from sklearn.neighbors import KNeighborsClassifier\n",
    "from sklearn.tree import DecisionTreeClassifier\n",
    "from sklearn.metrics import classification_report\n",
    "from sklearn.ensemble import RandomForestClassifier\n",
    "from sklearn.pipeline import make_pipeline\n",
    "from sklearn.preprocessing import MinMaxScaler\n",
    "from sklearn.svm import SVC\n",
    "from sklearn.model_selection import GridSearchCV\n",
    "from sklearn.linear_model import LogisticRegression\n",
    "from sklearn.metrics import accuracy_score, precision_score, recall_score, f1_score, roc_auc_score\n",
    "from sklearn.preprocessing import PolynomialFeatures\n",
    "from sklearn.model_selection import cross_val_score\n",
    "from sklearn.decomposition import PCA\n",
    "from sklearn.model_selection import learning_curve\n",
    "from sklearn.feature_selection import SelectPercentile\n",
    "from sklearn.feature_selection import VarianceThreshold\n",
    "from sklearn.feature_selection import SelectFromModel"
   ]
  },
  {
   "cell_type": "code",
   "execution_count": 55,
   "metadata": {},
   "outputs": [],
   "source": [
    "data=pd.read_csv('weatherAUS.csv')"
   ]
  },
  {
   "cell_type": "code",
   "execution_count": 56,
   "metadata": {},
   "outputs": [
    {
     "data": {
      "text/html": [
       "<div>\n",
       "<style scoped>\n",
       "    .dataframe tbody tr th:only-of-type {\n",
       "        vertical-align: middle;\n",
       "    }\n",
       "\n",
       "    .dataframe tbody tr th {\n",
       "        vertical-align: top;\n",
       "    }\n",
       "\n",
       "    .dataframe thead th {\n",
       "        text-align: right;\n",
       "    }\n",
       "</style>\n",
       "<table border=\"1\" class=\"dataframe\">\n",
       "  <thead>\n",
       "    <tr style=\"text-align: right;\">\n",
       "      <th></th>\n",
       "      <th>Date</th>\n",
       "      <th>Location</th>\n",
       "      <th>MinTemp</th>\n",
       "      <th>MaxTemp</th>\n",
       "      <th>Rainfall</th>\n",
       "      <th>Evaporation</th>\n",
       "      <th>Sunshine</th>\n",
       "      <th>WindGustDir</th>\n",
       "      <th>WindGustSpeed</th>\n",
       "      <th>WindDir9am</th>\n",
       "      <th>...</th>\n",
       "      <th>Humidity9am</th>\n",
       "      <th>Humidity3pm</th>\n",
       "      <th>Pressure9am</th>\n",
       "      <th>Pressure3pm</th>\n",
       "      <th>Cloud9am</th>\n",
       "      <th>Cloud3pm</th>\n",
       "      <th>Temp9am</th>\n",
       "      <th>Temp3pm</th>\n",
       "      <th>RainToday</th>\n",
       "      <th>RainTomorrow</th>\n",
       "    </tr>\n",
       "  </thead>\n",
       "  <tbody>\n",
       "    <tr>\n",
       "      <th>145455</th>\n",
       "      <td>2017-06-21</td>\n",
       "      <td>Uluru</td>\n",
       "      <td>2.8</td>\n",
       "      <td>23.4</td>\n",
       "      <td>0.0</td>\n",
       "      <td>NaN</td>\n",
       "      <td>NaN</td>\n",
       "      <td>E</td>\n",
       "      <td>31.0</td>\n",
       "      <td>SE</td>\n",
       "      <td>...</td>\n",
       "      <td>51.0</td>\n",
       "      <td>24.0</td>\n",
       "      <td>1024.6</td>\n",
       "      <td>1020.3</td>\n",
       "      <td>NaN</td>\n",
       "      <td>NaN</td>\n",
       "      <td>10.1</td>\n",
       "      <td>22.4</td>\n",
       "      <td>No</td>\n",
       "      <td>No</td>\n",
       "    </tr>\n",
       "    <tr>\n",
       "      <th>145456</th>\n",
       "      <td>2017-06-22</td>\n",
       "      <td>Uluru</td>\n",
       "      <td>3.6</td>\n",
       "      <td>25.3</td>\n",
       "      <td>0.0</td>\n",
       "      <td>NaN</td>\n",
       "      <td>NaN</td>\n",
       "      <td>NNW</td>\n",
       "      <td>22.0</td>\n",
       "      <td>SE</td>\n",
       "      <td>...</td>\n",
       "      <td>56.0</td>\n",
       "      <td>21.0</td>\n",
       "      <td>1023.5</td>\n",
       "      <td>1019.1</td>\n",
       "      <td>NaN</td>\n",
       "      <td>NaN</td>\n",
       "      <td>10.9</td>\n",
       "      <td>24.5</td>\n",
       "      <td>No</td>\n",
       "      <td>No</td>\n",
       "    </tr>\n",
       "    <tr>\n",
       "      <th>145457</th>\n",
       "      <td>2017-06-23</td>\n",
       "      <td>Uluru</td>\n",
       "      <td>5.4</td>\n",
       "      <td>26.9</td>\n",
       "      <td>0.0</td>\n",
       "      <td>NaN</td>\n",
       "      <td>NaN</td>\n",
       "      <td>N</td>\n",
       "      <td>37.0</td>\n",
       "      <td>SE</td>\n",
       "      <td>...</td>\n",
       "      <td>53.0</td>\n",
       "      <td>24.0</td>\n",
       "      <td>1021.0</td>\n",
       "      <td>1016.8</td>\n",
       "      <td>NaN</td>\n",
       "      <td>NaN</td>\n",
       "      <td>12.5</td>\n",
       "      <td>26.1</td>\n",
       "      <td>No</td>\n",
       "      <td>No</td>\n",
       "    </tr>\n",
       "    <tr>\n",
       "      <th>145458</th>\n",
       "      <td>2017-06-24</td>\n",
       "      <td>Uluru</td>\n",
       "      <td>7.8</td>\n",
       "      <td>27.0</td>\n",
       "      <td>0.0</td>\n",
       "      <td>NaN</td>\n",
       "      <td>NaN</td>\n",
       "      <td>SE</td>\n",
       "      <td>28.0</td>\n",
       "      <td>SSE</td>\n",
       "      <td>...</td>\n",
       "      <td>51.0</td>\n",
       "      <td>24.0</td>\n",
       "      <td>1019.4</td>\n",
       "      <td>1016.5</td>\n",
       "      <td>3.0</td>\n",
       "      <td>2.0</td>\n",
       "      <td>15.1</td>\n",
       "      <td>26.0</td>\n",
       "      <td>No</td>\n",
       "      <td>No</td>\n",
       "    </tr>\n",
       "    <tr>\n",
       "      <th>145459</th>\n",
       "      <td>2017-06-25</td>\n",
       "      <td>Uluru</td>\n",
       "      <td>14.9</td>\n",
       "      <td>NaN</td>\n",
       "      <td>0.0</td>\n",
       "      <td>NaN</td>\n",
       "      <td>NaN</td>\n",
       "      <td>NaN</td>\n",
       "      <td>NaN</td>\n",
       "      <td>ESE</td>\n",
       "      <td>...</td>\n",
       "      <td>62.0</td>\n",
       "      <td>36.0</td>\n",
       "      <td>1020.2</td>\n",
       "      <td>1017.9</td>\n",
       "      <td>8.0</td>\n",
       "      <td>8.0</td>\n",
       "      <td>15.0</td>\n",
       "      <td>20.9</td>\n",
       "      <td>No</td>\n",
       "      <td>NaN</td>\n",
       "    </tr>\n",
       "  </tbody>\n",
       "</table>\n",
       "<p>5 rows × 23 columns</p>\n",
       "</div>"
      ],
      "text/plain": [
       "              Date Location  MinTemp  MaxTemp  Rainfall  Evaporation  \\\n",
       "145455  2017-06-21    Uluru      2.8     23.4       0.0          NaN   \n",
       "145456  2017-06-22    Uluru      3.6     25.3       0.0          NaN   \n",
       "145457  2017-06-23    Uluru      5.4     26.9       0.0          NaN   \n",
       "145458  2017-06-24    Uluru      7.8     27.0       0.0          NaN   \n",
       "145459  2017-06-25    Uluru     14.9      NaN       0.0          NaN   \n",
       "\n",
       "        Sunshine WindGustDir  WindGustSpeed WindDir9am  ... Humidity9am  \\\n",
       "145455       NaN           E           31.0         SE  ...        51.0   \n",
       "145456       NaN         NNW           22.0         SE  ...        56.0   \n",
       "145457       NaN           N           37.0         SE  ...        53.0   \n",
       "145458       NaN          SE           28.0        SSE  ...        51.0   \n",
       "145459       NaN         NaN            NaN        ESE  ...        62.0   \n",
       "\n",
       "        Humidity3pm  Pressure9am  Pressure3pm  Cloud9am  Cloud3pm  Temp9am  \\\n",
       "145455         24.0       1024.6       1020.3       NaN       NaN     10.1   \n",
       "145456         21.0       1023.5       1019.1       NaN       NaN     10.9   \n",
       "145457         24.0       1021.0       1016.8       NaN       NaN     12.5   \n",
       "145458         24.0       1019.4       1016.5       3.0       2.0     15.1   \n",
       "145459         36.0       1020.2       1017.9       8.0       8.0     15.0   \n",
       "\n",
       "        Temp3pm  RainToday  RainTomorrow  \n",
       "145455     22.4         No            No  \n",
       "145456     24.5         No            No  \n",
       "145457     26.1         No            No  \n",
       "145458     26.0         No            No  \n",
       "145459     20.9         No           NaN  \n",
       "\n",
       "[5 rows x 23 columns]"
      ]
     },
     "execution_count": 56,
     "metadata": {},
     "output_type": "execute_result"
    }
   ],
   "source": [
    "data.tail()"
   ]
  },
  {
   "cell_type": "code",
   "execution_count": 57,
   "metadata": {
    "scrolled": true
   },
   "outputs": [
    {
     "name": "stdout",
     "output_type": "stream",
     "text": [
      "<class 'pandas.core.frame.DataFrame'>\n",
      "RangeIndex: 145460 entries, 0 to 145459\n",
      "Data columns (total 23 columns):\n",
      " #   Column         Non-Null Count   Dtype  \n",
      "---  ------         --------------   -----  \n",
      " 0   Date           145460 non-null  object \n",
      " 1   Location       145460 non-null  object \n",
      " 2   MinTemp        143975 non-null  float64\n",
      " 3   MaxTemp        144199 non-null  float64\n",
      " 4   Rainfall       142199 non-null  float64\n",
      " 5   Evaporation    82670 non-null   float64\n",
      " 6   Sunshine       75625 non-null   float64\n",
      " 7   WindGustDir    135134 non-null  object \n",
      " 8   WindGustSpeed  135197 non-null  float64\n",
      " 9   WindDir9am     134894 non-null  object \n",
      " 10  WindDir3pm     141232 non-null  object \n",
      " 11  WindSpeed9am   143693 non-null  float64\n",
      " 12  WindSpeed3pm   142398 non-null  float64\n",
      " 13  Humidity9am    142806 non-null  float64\n",
      " 14  Humidity3pm    140953 non-null  float64\n",
      " 15  Pressure9am    130395 non-null  float64\n",
      " 16  Pressure3pm    130432 non-null  float64\n",
      " 17  Cloud9am       89572 non-null   float64\n",
      " 18  Cloud3pm       86102 non-null   float64\n",
      " 19  Temp9am        143693 non-null  float64\n",
      " 20  Temp3pm        141851 non-null  float64\n",
      " 21  RainToday      142199 non-null  object \n",
      " 22  RainTomorrow   142193 non-null  object \n",
      "dtypes: float64(16), object(7)\n",
      "memory usage: 25.5+ MB\n"
     ]
    }
   ],
   "source": [
    "data.info()"
   ]
  },
  {
   "cell_type": "code",
   "execution_count": 58,
   "metadata": {},
   "outputs": [
    {
     "data": {
      "text/plain": [
       "array(['Albury', 'BadgerysCreek', 'Cobar', 'CoffsHarbour', 'Moree',\n",
       "       'Newcastle', 'NorahHead', 'NorfolkIsland', 'Penrith', 'Richmond',\n",
       "       'Sydney', 'SydneyAirport', 'WaggaWagga', 'Williamtown',\n",
       "       'Wollongong', 'Canberra', 'Tuggeranong', 'MountGinini', 'Ballarat',\n",
       "       'Bendigo', 'Sale', 'MelbourneAirport', 'Melbourne', 'Mildura',\n",
       "       'Nhil', 'Portland', 'Watsonia', 'Dartmoor', 'Brisbane', 'Cairns',\n",
       "       'GoldCoast', 'Townsville', 'Adelaide', 'MountGambier', 'Nuriootpa',\n",
       "       'Woomera', 'Albany', 'Witchcliffe', 'PearceRAAF', 'PerthAirport',\n",
       "       'Perth', 'SalmonGums', 'Walpole', 'Hobart', 'Launceston',\n",
       "       'AliceSprings', 'Darwin', 'Katherine', 'Uluru'], dtype=object)"
      ]
     },
     "execution_count": 58,
     "metadata": {},
     "output_type": "execute_result"
    }
   ],
   "source": [
    "data.Location.unique()"
   ]
  },
  {
   "cell_type": "code",
   "execution_count": 59,
   "metadata": {},
   "outputs": [
    {
     "data": {
      "text/plain": [
       "Index(['Date', 'Location', 'MinTemp', 'MaxTemp', 'Rainfall', 'Evaporation',\n",
       "       'Sunshine', 'WindGustDir', 'WindGustSpeed', 'WindDir9am', 'WindDir3pm',\n",
       "       'WindSpeed9am', 'WindSpeed3pm', 'Humidity9am', 'Humidity3pm',\n",
       "       'Pressure9am', 'Pressure3pm', 'Cloud9am', 'Cloud3pm', 'Temp9am',\n",
       "       'Temp3pm', 'RainToday', 'RainTomorrow'],\n",
       "      dtype='object')"
      ]
     },
     "execution_count": 59,
     "metadata": {},
     "output_type": "execute_result"
    }
   ],
   "source": [
    "data.columns"
   ]
  },
  {
   "cell_type": "code",
   "execution_count": 60,
   "metadata": {},
   "outputs": [],
   "source": [
    "data_copy=data.copy()"
   ]
  },
  {
   "cell_type": "code",
   "execution_count": 61,
   "metadata": {
    "scrolled": true
   },
   "outputs": [
    {
     "name": "stdout",
     "output_type": "stream",
     "text": [
      "<class 'pandas.core.frame.DataFrame'>\n",
      "Int64Index: 56420 entries, 6049 to 142302\n",
      "Data columns (total 23 columns):\n",
      " #   Column         Non-Null Count  Dtype  \n",
      "---  ------         --------------  -----  \n",
      " 0   Date           56420 non-null  object \n",
      " 1   Location       56420 non-null  object \n",
      " 2   MinTemp        56420 non-null  float64\n",
      " 3   MaxTemp        56420 non-null  float64\n",
      " 4   Rainfall       56420 non-null  float64\n",
      " 5   Evaporation    56420 non-null  float64\n",
      " 6   Sunshine       56420 non-null  float64\n",
      " 7   WindGustDir    56420 non-null  object \n",
      " 8   WindGustSpeed  56420 non-null  float64\n",
      " 9   WindDir9am     56420 non-null  object \n",
      " 10  WindDir3pm     56420 non-null  object \n",
      " 11  WindSpeed9am   56420 non-null  float64\n",
      " 12  WindSpeed3pm   56420 non-null  float64\n",
      " 13  Humidity9am    56420 non-null  float64\n",
      " 14  Humidity3pm    56420 non-null  float64\n",
      " 15  Pressure9am    56420 non-null  float64\n",
      " 16  Pressure3pm    56420 non-null  float64\n",
      " 17  Cloud9am       56420 non-null  float64\n",
      " 18  Cloud3pm       56420 non-null  float64\n",
      " 19  Temp9am        56420 non-null  float64\n",
      " 20  Temp3pm        56420 non-null  float64\n",
      " 21  RainToday      56420 non-null  object \n",
      " 22  RainTomorrow   56420 non-null  object \n",
      "dtypes: float64(16), object(7)\n",
      "memory usage: 10.3+ MB\n"
     ]
    }
   ],
   "source": [
    "data_copy=data_copy.dropna()\n",
    "data_copy.info()"
   ]
  },
  {
   "cell_type": "code",
   "execution_count": 62,
   "metadata": {},
   "outputs": [
    {
     "data": {
      "text/html": [
       "<div>\n",
       "<style scoped>\n",
       "    .dataframe tbody tr th:only-of-type {\n",
       "        vertical-align: middle;\n",
       "    }\n",
       "\n",
       "    .dataframe tbody tr th {\n",
       "        vertical-align: top;\n",
       "    }\n",
       "\n",
       "    .dataframe thead th {\n",
       "        text-align: right;\n",
       "    }\n",
       "</style>\n",
       "<table border=\"1\" class=\"dataframe\">\n",
       "  <thead>\n",
       "    <tr style=\"text-align: right;\">\n",
       "      <th></th>\n",
       "      <th>Date</th>\n",
       "      <th>Location</th>\n",
       "      <th>MinTemp</th>\n",
       "      <th>MaxTemp</th>\n",
       "      <th>Rainfall</th>\n",
       "      <th>Evaporation</th>\n",
       "      <th>Sunshine</th>\n",
       "      <th>WindGustDir</th>\n",
       "      <th>WindGustSpeed</th>\n",
       "      <th>WindDir9am</th>\n",
       "      <th>...</th>\n",
       "      <th>Humidity9am</th>\n",
       "      <th>Humidity3pm</th>\n",
       "      <th>Pressure9am</th>\n",
       "      <th>Pressure3pm</th>\n",
       "      <th>Cloud9am</th>\n",
       "      <th>Cloud3pm</th>\n",
       "      <th>Temp9am</th>\n",
       "      <th>Temp3pm</th>\n",
       "      <th>RainToday</th>\n",
       "      <th>RainTomorrow</th>\n",
       "    </tr>\n",
       "  </thead>\n",
       "  <tbody>\n",
       "    <tr>\n",
       "      <th>6049</th>\n",
       "      <td>2009-01-01</td>\n",
       "      <td>Cobar</td>\n",
       "      <td>17.9</td>\n",
       "      <td>35.2</td>\n",
       "      <td>0.0</td>\n",
       "      <td>12.0</td>\n",
       "      <td>12.3</td>\n",
       "      <td>SSW</td>\n",
       "      <td>48.0</td>\n",
       "      <td>ENE</td>\n",
       "      <td>...</td>\n",
       "      <td>20.0</td>\n",
       "      <td>13.0</td>\n",
       "      <td>1006.3</td>\n",
       "      <td>1004.4</td>\n",
       "      <td>2.0</td>\n",
       "      <td>5.0</td>\n",
       "      <td>26.6</td>\n",
       "      <td>33.4</td>\n",
       "      <td>No</td>\n",
       "      <td>No</td>\n",
       "    </tr>\n",
       "    <tr>\n",
       "      <th>6050</th>\n",
       "      <td>2009-01-02</td>\n",
       "      <td>Cobar</td>\n",
       "      <td>18.4</td>\n",
       "      <td>28.9</td>\n",
       "      <td>0.0</td>\n",
       "      <td>14.8</td>\n",
       "      <td>13.0</td>\n",
       "      <td>S</td>\n",
       "      <td>37.0</td>\n",
       "      <td>SSE</td>\n",
       "      <td>...</td>\n",
       "      <td>30.0</td>\n",
       "      <td>8.0</td>\n",
       "      <td>1012.9</td>\n",
       "      <td>1012.1</td>\n",
       "      <td>1.0</td>\n",
       "      <td>1.0</td>\n",
       "      <td>20.3</td>\n",
       "      <td>27.0</td>\n",
       "      <td>No</td>\n",
       "      <td>No</td>\n",
       "    </tr>\n",
       "    <tr>\n",
       "      <th>6052</th>\n",
       "      <td>2009-01-04</td>\n",
       "      <td>Cobar</td>\n",
       "      <td>19.4</td>\n",
       "      <td>37.6</td>\n",
       "      <td>0.0</td>\n",
       "      <td>10.8</td>\n",
       "      <td>10.6</td>\n",
       "      <td>NNE</td>\n",
       "      <td>46.0</td>\n",
       "      <td>NNE</td>\n",
       "      <td>...</td>\n",
       "      <td>42.0</td>\n",
       "      <td>22.0</td>\n",
       "      <td>1012.3</td>\n",
       "      <td>1009.2</td>\n",
       "      <td>1.0</td>\n",
       "      <td>6.0</td>\n",
       "      <td>28.7</td>\n",
       "      <td>34.9</td>\n",
       "      <td>No</td>\n",
       "      <td>No</td>\n",
       "    </tr>\n",
       "    <tr>\n",
       "      <th>6053</th>\n",
       "      <td>2009-01-05</td>\n",
       "      <td>Cobar</td>\n",
       "      <td>21.9</td>\n",
       "      <td>38.4</td>\n",
       "      <td>0.0</td>\n",
       "      <td>11.4</td>\n",
       "      <td>12.2</td>\n",
       "      <td>WNW</td>\n",
       "      <td>31.0</td>\n",
       "      <td>WNW</td>\n",
       "      <td>...</td>\n",
       "      <td>37.0</td>\n",
       "      <td>22.0</td>\n",
       "      <td>1012.7</td>\n",
       "      <td>1009.1</td>\n",
       "      <td>1.0</td>\n",
       "      <td>5.0</td>\n",
       "      <td>29.1</td>\n",
       "      <td>35.6</td>\n",
       "      <td>No</td>\n",
       "      <td>No</td>\n",
       "    </tr>\n",
       "    <tr>\n",
       "      <th>6054</th>\n",
       "      <td>2009-01-06</td>\n",
       "      <td>Cobar</td>\n",
       "      <td>24.2</td>\n",
       "      <td>41.0</td>\n",
       "      <td>0.0</td>\n",
       "      <td>11.2</td>\n",
       "      <td>8.4</td>\n",
       "      <td>WNW</td>\n",
       "      <td>35.0</td>\n",
       "      <td>NW</td>\n",
       "      <td>...</td>\n",
       "      <td>19.0</td>\n",
       "      <td>15.0</td>\n",
       "      <td>1010.7</td>\n",
       "      <td>1007.4</td>\n",
       "      <td>1.0</td>\n",
       "      <td>6.0</td>\n",
       "      <td>33.6</td>\n",
       "      <td>37.6</td>\n",
       "      <td>No</td>\n",
       "      <td>No</td>\n",
       "    </tr>\n",
       "  </tbody>\n",
       "</table>\n",
       "<p>5 rows × 23 columns</p>\n",
       "</div>"
      ],
      "text/plain": [
       "            Date Location  MinTemp  MaxTemp  Rainfall  Evaporation  Sunshine  \\\n",
       "6049  2009-01-01    Cobar     17.9     35.2       0.0         12.0      12.3   \n",
       "6050  2009-01-02    Cobar     18.4     28.9       0.0         14.8      13.0   \n",
       "6052  2009-01-04    Cobar     19.4     37.6       0.0         10.8      10.6   \n",
       "6053  2009-01-05    Cobar     21.9     38.4       0.0         11.4      12.2   \n",
       "6054  2009-01-06    Cobar     24.2     41.0       0.0         11.2       8.4   \n",
       "\n",
       "     WindGustDir  WindGustSpeed WindDir9am  ... Humidity9am  Humidity3pm  \\\n",
       "6049         SSW           48.0        ENE  ...        20.0         13.0   \n",
       "6050           S           37.0        SSE  ...        30.0          8.0   \n",
       "6052         NNE           46.0        NNE  ...        42.0         22.0   \n",
       "6053         WNW           31.0        WNW  ...        37.0         22.0   \n",
       "6054         WNW           35.0         NW  ...        19.0         15.0   \n",
       "\n",
       "      Pressure9am  Pressure3pm  Cloud9am  Cloud3pm  Temp9am  Temp3pm  \\\n",
       "6049       1006.3       1004.4       2.0       5.0     26.6     33.4   \n",
       "6050       1012.9       1012.1       1.0       1.0     20.3     27.0   \n",
       "6052       1012.3       1009.2       1.0       6.0     28.7     34.9   \n",
       "6053       1012.7       1009.1       1.0       5.0     29.1     35.6   \n",
       "6054       1010.7       1007.4       1.0       6.0     33.6     37.6   \n",
       "\n",
       "      RainToday  RainTomorrow  \n",
       "6049         No            No  \n",
       "6050         No            No  \n",
       "6052         No            No  \n",
       "6053         No            No  \n",
       "6054         No            No  \n",
       "\n",
       "[5 rows x 23 columns]"
      ]
     },
     "execution_count": 62,
     "metadata": {},
     "output_type": "execute_result"
    }
   ],
   "source": [
    "data_copy.head()"
   ]
  },
  {
   "cell_type": "code",
   "execution_count": 63,
   "metadata": {},
   "outputs": [],
   "source": [
    "data_copy['Date'] = pd.to_datetime(data_copy['Date'], \n",
    " format = '%Y-%m-%d', \n",
    " errors = 'coerce')"
   ]
  },
  {
   "cell_type": "code",
   "execution_count": 64,
   "metadata": {},
   "outputs": [],
   "source": [
    "data_copy['year'] = data_copy['Date'].dt.year\n",
    "data_copy['month'] = data_copy['Date'].dt.month\n",
    "data_copy['day'] = data_copy['Date'].dt.day"
   ]
  },
  {
   "cell_type": "code",
   "execution_count": 65,
   "metadata": {},
   "outputs": [
    {
     "data": {
      "text/html": [
       "<div>\n",
       "<style scoped>\n",
       "    .dataframe tbody tr th:only-of-type {\n",
       "        vertical-align: middle;\n",
       "    }\n",
       "\n",
       "    .dataframe tbody tr th {\n",
       "        vertical-align: top;\n",
       "    }\n",
       "\n",
       "    .dataframe thead th {\n",
       "        text-align: right;\n",
       "    }\n",
       "</style>\n",
       "<table border=\"1\" class=\"dataframe\">\n",
       "  <thead>\n",
       "    <tr style=\"text-align: right;\">\n",
       "      <th></th>\n",
       "      <th>Date</th>\n",
       "      <th>Location</th>\n",
       "      <th>MinTemp</th>\n",
       "      <th>MaxTemp</th>\n",
       "      <th>Rainfall</th>\n",
       "      <th>Evaporation</th>\n",
       "      <th>Sunshine</th>\n",
       "      <th>WindGustDir</th>\n",
       "      <th>WindGustSpeed</th>\n",
       "      <th>WindDir9am</th>\n",
       "      <th>...</th>\n",
       "      <th>Pressure3pm</th>\n",
       "      <th>Cloud9am</th>\n",
       "      <th>Cloud3pm</th>\n",
       "      <th>Temp9am</th>\n",
       "      <th>Temp3pm</th>\n",
       "      <th>RainToday</th>\n",
       "      <th>RainTomorrow</th>\n",
       "      <th>year</th>\n",
       "      <th>month</th>\n",
       "      <th>day</th>\n",
       "    </tr>\n",
       "  </thead>\n",
       "  <tbody>\n",
       "    <tr>\n",
       "      <th>6049</th>\n",
       "      <td>2009-01-01</td>\n",
       "      <td>Cobar</td>\n",
       "      <td>17.9</td>\n",
       "      <td>35.2</td>\n",
       "      <td>0.0</td>\n",
       "      <td>12.0</td>\n",
       "      <td>12.3</td>\n",
       "      <td>SSW</td>\n",
       "      <td>48.0</td>\n",
       "      <td>ENE</td>\n",
       "      <td>...</td>\n",
       "      <td>1004.4</td>\n",
       "      <td>2.0</td>\n",
       "      <td>5.0</td>\n",
       "      <td>26.6</td>\n",
       "      <td>33.4</td>\n",
       "      <td>No</td>\n",
       "      <td>No</td>\n",
       "      <td>2009</td>\n",
       "      <td>1</td>\n",
       "      <td>1</td>\n",
       "    </tr>\n",
       "    <tr>\n",
       "      <th>6050</th>\n",
       "      <td>2009-01-02</td>\n",
       "      <td>Cobar</td>\n",
       "      <td>18.4</td>\n",
       "      <td>28.9</td>\n",
       "      <td>0.0</td>\n",
       "      <td>14.8</td>\n",
       "      <td>13.0</td>\n",
       "      <td>S</td>\n",
       "      <td>37.0</td>\n",
       "      <td>SSE</td>\n",
       "      <td>...</td>\n",
       "      <td>1012.1</td>\n",
       "      <td>1.0</td>\n",
       "      <td>1.0</td>\n",
       "      <td>20.3</td>\n",
       "      <td>27.0</td>\n",
       "      <td>No</td>\n",
       "      <td>No</td>\n",
       "      <td>2009</td>\n",
       "      <td>1</td>\n",
       "      <td>2</td>\n",
       "    </tr>\n",
       "    <tr>\n",
       "      <th>6052</th>\n",
       "      <td>2009-01-04</td>\n",
       "      <td>Cobar</td>\n",
       "      <td>19.4</td>\n",
       "      <td>37.6</td>\n",
       "      <td>0.0</td>\n",
       "      <td>10.8</td>\n",
       "      <td>10.6</td>\n",
       "      <td>NNE</td>\n",
       "      <td>46.0</td>\n",
       "      <td>NNE</td>\n",
       "      <td>...</td>\n",
       "      <td>1009.2</td>\n",
       "      <td>1.0</td>\n",
       "      <td>6.0</td>\n",
       "      <td>28.7</td>\n",
       "      <td>34.9</td>\n",
       "      <td>No</td>\n",
       "      <td>No</td>\n",
       "      <td>2009</td>\n",
       "      <td>1</td>\n",
       "      <td>4</td>\n",
       "    </tr>\n",
       "    <tr>\n",
       "      <th>6053</th>\n",
       "      <td>2009-01-05</td>\n",
       "      <td>Cobar</td>\n",
       "      <td>21.9</td>\n",
       "      <td>38.4</td>\n",
       "      <td>0.0</td>\n",
       "      <td>11.4</td>\n",
       "      <td>12.2</td>\n",
       "      <td>WNW</td>\n",
       "      <td>31.0</td>\n",
       "      <td>WNW</td>\n",
       "      <td>...</td>\n",
       "      <td>1009.1</td>\n",
       "      <td>1.0</td>\n",
       "      <td>5.0</td>\n",
       "      <td>29.1</td>\n",
       "      <td>35.6</td>\n",
       "      <td>No</td>\n",
       "      <td>No</td>\n",
       "      <td>2009</td>\n",
       "      <td>1</td>\n",
       "      <td>5</td>\n",
       "    </tr>\n",
       "    <tr>\n",
       "      <th>6054</th>\n",
       "      <td>2009-01-06</td>\n",
       "      <td>Cobar</td>\n",
       "      <td>24.2</td>\n",
       "      <td>41.0</td>\n",
       "      <td>0.0</td>\n",
       "      <td>11.2</td>\n",
       "      <td>8.4</td>\n",
       "      <td>WNW</td>\n",
       "      <td>35.0</td>\n",
       "      <td>NW</td>\n",
       "      <td>...</td>\n",
       "      <td>1007.4</td>\n",
       "      <td>1.0</td>\n",
       "      <td>6.0</td>\n",
       "      <td>33.6</td>\n",
       "      <td>37.6</td>\n",
       "      <td>No</td>\n",
       "      <td>No</td>\n",
       "      <td>2009</td>\n",
       "      <td>1</td>\n",
       "      <td>6</td>\n",
       "    </tr>\n",
       "  </tbody>\n",
       "</table>\n",
       "<p>5 rows × 26 columns</p>\n",
       "</div>"
      ],
      "text/plain": [
       "           Date Location  MinTemp  MaxTemp  Rainfall  Evaporation  Sunshine  \\\n",
       "6049 2009-01-01    Cobar     17.9     35.2       0.0         12.0      12.3   \n",
       "6050 2009-01-02    Cobar     18.4     28.9       0.0         14.8      13.0   \n",
       "6052 2009-01-04    Cobar     19.4     37.6       0.0         10.8      10.6   \n",
       "6053 2009-01-05    Cobar     21.9     38.4       0.0         11.4      12.2   \n",
       "6054 2009-01-06    Cobar     24.2     41.0       0.0         11.2       8.4   \n",
       "\n",
       "     WindGustDir  WindGustSpeed WindDir9am  ... Pressure3pm  Cloud9am  \\\n",
       "6049         SSW           48.0        ENE  ...      1004.4       2.0   \n",
       "6050           S           37.0        SSE  ...      1012.1       1.0   \n",
       "6052         NNE           46.0        NNE  ...      1009.2       1.0   \n",
       "6053         WNW           31.0        WNW  ...      1009.1       1.0   \n",
       "6054         WNW           35.0         NW  ...      1007.4       1.0   \n",
       "\n",
       "      Cloud3pm  Temp9am  Temp3pm  RainToday  RainTomorrow  year  month  day  \n",
       "6049       5.0     26.6     33.4         No            No  2009      1    1  \n",
       "6050       1.0     20.3     27.0         No            No  2009      1    2  \n",
       "6052       6.0     28.7     34.9         No            No  2009      1    4  \n",
       "6053       5.0     29.1     35.6         No            No  2009      1    5  \n",
       "6054       6.0     33.6     37.6         No            No  2009      1    6  \n",
       "\n",
       "[5 rows x 26 columns]"
      ]
     },
     "execution_count": 65,
     "metadata": {},
     "output_type": "execute_result"
    }
   ],
   "source": [
    "data_copy.head()"
   ]
  },
  {
   "cell_type": "code",
   "execution_count": 66,
   "metadata": {},
   "outputs": [],
   "source": [
    "data_copy.drop('Date',axis=1,inplace=True)"
   ]
  },
  {
   "cell_type": "code",
   "execution_count": 67,
   "metadata": {},
   "outputs": [
    {
     "data": {
      "text/html": [
       "<div>\n",
       "<style scoped>\n",
       "    .dataframe tbody tr th:only-of-type {\n",
       "        vertical-align: middle;\n",
       "    }\n",
       "\n",
       "    .dataframe tbody tr th {\n",
       "        vertical-align: top;\n",
       "    }\n",
       "\n",
       "    .dataframe thead th {\n",
       "        text-align: right;\n",
       "    }\n",
       "</style>\n",
       "<table border=\"1\" class=\"dataframe\">\n",
       "  <thead>\n",
       "    <tr style=\"text-align: right;\">\n",
       "      <th></th>\n",
       "      <th>Location</th>\n",
       "      <th>MinTemp</th>\n",
       "      <th>MaxTemp</th>\n",
       "      <th>Rainfall</th>\n",
       "      <th>Evaporation</th>\n",
       "      <th>Sunshine</th>\n",
       "      <th>WindGustDir</th>\n",
       "      <th>WindGustSpeed</th>\n",
       "      <th>WindDir9am</th>\n",
       "      <th>WindDir3pm</th>\n",
       "      <th>...</th>\n",
       "      <th>Pressure3pm</th>\n",
       "      <th>Cloud9am</th>\n",
       "      <th>Cloud3pm</th>\n",
       "      <th>Temp9am</th>\n",
       "      <th>Temp3pm</th>\n",
       "      <th>RainToday</th>\n",
       "      <th>RainTomorrow</th>\n",
       "      <th>year</th>\n",
       "      <th>month</th>\n",
       "      <th>day</th>\n",
       "    </tr>\n",
       "  </thead>\n",
       "  <tbody>\n",
       "    <tr>\n",
       "      <th>6049</th>\n",
       "      <td>Cobar</td>\n",
       "      <td>17.9</td>\n",
       "      <td>35.2</td>\n",
       "      <td>0.0</td>\n",
       "      <td>12.0</td>\n",
       "      <td>12.3</td>\n",
       "      <td>SSW</td>\n",
       "      <td>48.0</td>\n",
       "      <td>ENE</td>\n",
       "      <td>SW</td>\n",
       "      <td>...</td>\n",
       "      <td>1004.4</td>\n",
       "      <td>2.0</td>\n",
       "      <td>5.0</td>\n",
       "      <td>26.6</td>\n",
       "      <td>33.4</td>\n",
       "      <td>No</td>\n",
       "      <td>No</td>\n",
       "      <td>2009</td>\n",
       "      <td>1</td>\n",
       "      <td>1</td>\n",
       "    </tr>\n",
       "    <tr>\n",
       "      <th>6050</th>\n",
       "      <td>Cobar</td>\n",
       "      <td>18.4</td>\n",
       "      <td>28.9</td>\n",
       "      <td>0.0</td>\n",
       "      <td>14.8</td>\n",
       "      <td>13.0</td>\n",
       "      <td>S</td>\n",
       "      <td>37.0</td>\n",
       "      <td>SSE</td>\n",
       "      <td>SSE</td>\n",
       "      <td>...</td>\n",
       "      <td>1012.1</td>\n",
       "      <td>1.0</td>\n",
       "      <td>1.0</td>\n",
       "      <td>20.3</td>\n",
       "      <td>27.0</td>\n",
       "      <td>No</td>\n",
       "      <td>No</td>\n",
       "      <td>2009</td>\n",
       "      <td>1</td>\n",
       "      <td>2</td>\n",
       "    </tr>\n",
       "    <tr>\n",
       "      <th>6052</th>\n",
       "      <td>Cobar</td>\n",
       "      <td>19.4</td>\n",
       "      <td>37.6</td>\n",
       "      <td>0.0</td>\n",
       "      <td>10.8</td>\n",
       "      <td>10.6</td>\n",
       "      <td>NNE</td>\n",
       "      <td>46.0</td>\n",
       "      <td>NNE</td>\n",
       "      <td>NNW</td>\n",
       "      <td>...</td>\n",
       "      <td>1009.2</td>\n",
       "      <td>1.0</td>\n",
       "      <td>6.0</td>\n",
       "      <td>28.7</td>\n",
       "      <td>34.9</td>\n",
       "      <td>No</td>\n",
       "      <td>No</td>\n",
       "      <td>2009</td>\n",
       "      <td>1</td>\n",
       "      <td>4</td>\n",
       "    </tr>\n",
       "    <tr>\n",
       "      <th>6053</th>\n",
       "      <td>Cobar</td>\n",
       "      <td>21.9</td>\n",
       "      <td>38.4</td>\n",
       "      <td>0.0</td>\n",
       "      <td>11.4</td>\n",
       "      <td>12.2</td>\n",
       "      <td>WNW</td>\n",
       "      <td>31.0</td>\n",
       "      <td>WNW</td>\n",
       "      <td>WSW</td>\n",
       "      <td>...</td>\n",
       "      <td>1009.1</td>\n",
       "      <td>1.0</td>\n",
       "      <td>5.0</td>\n",
       "      <td>29.1</td>\n",
       "      <td>35.6</td>\n",
       "      <td>No</td>\n",
       "      <td>No</td>\n",
       "      <td>2009</td>\n",
       "      <td>1</td>\n",
       "      <td>5</td>\n",
       "    </tr>\n",
       "    <tr>\n",
       "      <th>6054</th>\n",
       "      <td>Cobar</td>\n",
       "      <td>24.2</td>\n",
       "      <td>41.0</td>\n",
       "      <td>0.0</td>\n",
       "      <td>11.2</td>\n",
       "      <td>8.4</td>\n",
       "      <td>WNW</td>\n",
       "      <td>35.0</td>\n",
       "      <td>NW</td>\n",
       "      <td>WNW</td>\n",
       "      <td>...</td>\n",
       "      <td>1007.4</td>\n",
       "      <td>1.0</td>\n",
       "      <td>6.0</td>\n",
       "      <td>33.6</td>\n",
       "      <td>37.6</td>\n",
       "      <td>No</td>\n",
       "      <td>No</td>\n",
       "      <td>2009</td>\n",
       "      <td>1</td>\n",
       "      <td>6</td>\n",
       "    </tr>\n",
       "  </tbody>\n",
       "</table>\n",
       "<p>5 rows × 25 columns</p>\n",
       "</div>"
      ],
      "text/plain": [
       "     Location  MinTemp  MaxTemp  Rainfall  Evaporation  Sunshine WindGustDir  \\\n",
       "6049    Cobar     17.9     35.2       0.0         12.0      12.3         SSW   \n",
       "6050    Cobar     18.4     28.9       0.0         14.8      13.0           S   \n",
       "6052    Cobar     19.4     37.6       0.0         10.8      10.6         NNE   \n",
       "6053    Cobar     21.9     38.4       0.0         11.4      12.2         WNW   \n",
       "6054    Cobar     24.2     41.0       0.0         11.2       8.4         WNW   \n",
       "\n",
       "      WindGustSpeed WindDir9am WindDir3pm  ...  Pressure3pm  Cloud9am  \\\n",
       "6049           48.0        ENE         SW  ...       1004.4       2.0   \n",
       "6050           37.0        SSE        SSE  ...       1012.1       1.0   \n",
       "6052           46.0        NNE        NNW  ...       1009.2       1.0   \n",
       "6053           31.0        WNW        WSW  ...       1009.1       1.0   \n",
       "6054           35.0         NW        WNW  ...       1007.4       1.0   \n",
       "\n",
       "      Cloud3pm  Temp9am  Temp3pm  RainToday  RainTomorrow  year  month  day  \n",
       "6049       5.0     26.6     33.4         No            No  2009      1    1  \n",
       "6050       1.0     20.3     27.0         No            No  2009      1    2  \n",
       "6052       6.0     28.7     34.9         No            No  2009      1    4  \n",
       "6053       5.0     29.1     35.6         No            No  2009      1    5  \n",
       "6054       6.0     33.6     37.6         No            No  2009      1    6  \n",
       "\n",
       "[5 rows x 25 columns]"
      ]
     },
     "execution_count": 67,
     "metadata": {},
     "output_type": "execute_result"
    }
   ],
   "source": [
    "data_copy.head()"
   ]
  },
  {
   "cell_type": "code",
   "execution_count": 68,
   "metadata": {},
   "outputs": [],
   "source": [
    "RainTomorrow = data_copy['RainTomorrow']\n",
    "features = data_copy.drop('RainTomorrow', axis = 1)\n",
    "\n",
    "X= features.values\n",
    "y = RainTomorrow.values"
   ]
  },
  {
   "cell_type": "code",
   "execution_count": 69,
   "metadata": {},
   "outputs": [
    {
     "data": {
      "text/plain": [
       "array(['Cobar', 17.9, 35.2, 0.0, 12.0, 12.3, 'SSW', 48.0, 'ENE', 'SW',\n",
       "       6.0, 20.0, 20.0, 13.0, 1006.3, 1004.4, 2.0, 5.0, 26.6, 33.4, 'No',\n",
       "       2009, 1, 1], dtype=object)"
      ]
     },
     "execution_count": 69,
     "metadata": {},
     "output_type": "execute_result"
    }
   ],
   "source": [
    "X[0]"
   ]
  },
  {
   "cell_type": "code",
   "execution_count": 70,
   "metadata": {},
   "outputs": [
    {
     "data": {
      "text/plain": [
       "No     43993\n",
       "Yes    12427\n",
       "Name: RainTomorrow, dtype: int64"
      ]
     },
     "execution_count": 70,
     "metadata": {},
     "output_type": "execute_result"
    }
   ],
   "source": [
    "data_copy.RainTomorrow.value_counts()"
   ]
  },
  {
   "cell_type": "code",
   "execution_count": 71,
   "metadata": {},
   "outputs": [
    {
     "data": {
      "text/plain": [
       "No     43958\n",
       "Yes    12462\n",
       "Name: RainToday, dtype: int64"
      ]
     },
     "execution_count": 71,
     "metadata": {},
     "output_type": "execute_result"
    }
   ],
   "source": [
    "data_copy.RainToday.value_counts()"
   ]
  },
  {
   "cell_type": "code",
   "execution_count": 72,
   "metadata": {},
   "outputs": [
    {
     "data": {
      "text/html": [
       "<div>\n",
       "<style scoped>\n",
       "    .dataframe tbody tr th:only-of-type {\n",
       "        vertical-align: middle;\n",
       "    }\n",
       "\n",
       "    .dataframe tbody tr th {\n",
       "        vertical-align: top;\n",
       "    }\n",
       "\n",
       "    .dataframe thead th {\n",
       "        text-align: right;\n",
       "    }\n",
       "</style>\n",
       "<table border=\"1\" class=\"dataframe\">\n",
       "  <thead>\n",
       "    <tr style=\"text-align: right;\">\n",
       "      <th></th>\n",
       "      <th>Location</th>\n",
       "      <th>MinTemp</th>\n",
       "      <th>MaxTemp</th>\n",
       "      <th>Rainfall</th>\n",
       "      <th>Evaporation</th>\n",
       "      <th>Sunshine</th>\n",
       "      <th>WindGustDir</th>\n",
       "      <th>WindGustSpeed</th>\n",
       "      <th>WindDir9am</th>\n",
       "      <th>WindDir3pm</th>\n",
       "      <th>...</th>\n",
       "      <th>Pressure3pm</th>\n",
       "      <th>Cloud9am</th>\n",
       "      <th>Cloud3pm</th>\n",
       "      <th>Temp9am</th>\n",
       "      <th>Temp3pm</th>\n",
       "      <th>RainToday</th>\n",
       "      <th>RainTomorrow</th>\n",
       "      <th>year</th>\n",
       "      <th>month</th>\n",
       "      <th>day</th>\n",
       "    </tr>\n",
       "  </thead>\n",
       "  <tbody>\n",
       "    <tr>\n",
       "      <th>6067</th>\n",
       "      <td>Cobar</td>\n",
       "      <td>21.4</td>\n",
       "      <td>37.5</td>\n",
       "      <td>0.0</td>\n",
       "      <td>14.8</td>\n",
       "      <td>6.9</td>\n",
       "      <td>NNE</td>\n",
       "      <td>43.0</td>\n",
       "      <td>ENE</td>\n",
       "      <td>NNE</td>\n",
       "      <td>...</td>\n",
       "      <td>1009.6</td>\n",
       "      <td>7.0</td>\n",
       "      <td>6.0</td>\n",
       "      <td>26.2</td>\n",
       "      <td>34.1</td>\n",
       "      <td>No</td>\n",
       "      <td>Yes</td>\n",
       "      <td>2009</td>\n",
       "      <td>1</td>\n",
       "      <td>19</td>\n",
       "    </tr>\n",
       "    <tr>\n",
       "      <th>6068</th>\n",
       "      <td>Cobar</td>\n",
       "      <td>23.3</td>\n",
       "      <td>39.4</td>\n",
       "      <td>4.8</td>\n",
       "      <td>12.0</td>\n",
       "      <td>10.9</td>\n",
       "      <td>W</td>\n",
       "      <td>59.0</td>\n",
       "      <td>N</td>\n",
       "      <td>NW</td>\n",
       "      <td>...</td>\n",
       "      <td>1008.5</td>\n",
       "      <td>1.0</td>\n",
       "      <td>7.0</td>\n",
       "      <td>27.0</td>\n",
       "      <td>37.0</td>\n",
       "      <td>Yes</td>\n",
       "      <td>No</td>\n",
       "      <td>2009</td>\n",
       "      <td>1</td>\n",
       "      <td>20</td>\n",
       "    </tr>\n",
       "    <tr>\n",
       "      <th>6070</th>\n",
       "      <td>Cobar</td>\n",
       "      <td>21.8</td>\n",
       "      <td>30.7</td>\n",
       "      <td>0.0</td>\n",
       "      <td>8.0</td>\n",
       "      <td>5.9</td>\n",
       "      <td>WNW</td>\n",
       "      <td>56.0</td>\n",
       "      <td>N</td>\n",
       "      <td>N</td>\n",
       "      <td>...</td>\n",
       "      <td>1006.2</td>\n",
       "      <td>7.0</td>\n",
       "      <td>7.0</td>\n",
       "      <td>24.4</td>\n",
       "      <td>27.3</td>\n",
       "      <td>No</td>\n",
       "      <td>Yes</td>\n",
       "      <td>2009</td>\n",
       "      <td>1</td>\n",
       "      <td>22</td>\n",
       "    </tr>\n",
       "    <tr>\n",
       "      <th>6072</th>\n",
       "      <td>Cobar</td>\n",
       "      <td>22.1</td>\n",
       "      <td>34.7</td>\n",
       "      <td>8.6</td>\n",
       "      <td>8.6</td>\n",
       "      <td>12.4</td>\n",
       "      <td>NNW</td>\n",
       "      <td>50.0</td>\n",
       "      <td>SSW</td>\n",
       "      <td>SW</td>\n",
       "      <td>...</td>\n",
       "      <td>1008.3</td>\n",
       "      <td>2.0</td>\n",
       "      <td>6.0</td>\n",
       "      <td>28.1</td>\n",
       "      <td>33.2</td>\n",
       "      <td>Yes</td>\n",
       "      <td>No</td>\n",
       "      <td>2009</td>\n",
       "      <td>1</td>\n",
       "      <td>24</td>\n",
       "    </tr>\n",
       "    <tr>\n",
       "      <th>6082</th>\n",
       "      <td>Cobar</td>\n",
       "      <td>23.6</td>\n",
       "      <td>40.4</td>\n",
       "      <td>0.6</td>\n",
       "      <td>11.8</td>\n",
       "      <td>12.2</td>\n",
       "      <td>WSW</td>\n",
       "      <td>54.0</td>\n",
       "      <td>E</td>\n",
       "      <td>SSW</td>\n",
       "      <td>...</td>\n",
       "      <td>1005.0</td>\n",
       "      <td>1.0</td>\n",
       "      <td>2.0</td>\n",
       "      <td>29.9</td>\n",
       "      <td>38.7</td>\n",
       "      <td>No</td>\n",
       "      <td>Yes</td>\n",
       "      <td>2009</td>\n",
       "      <td>2</td>\n",
       "      <td>3</td>\n",
       "    </tr>\n",
       "    <tr>\n",
       "      <th>...</th>\n",
       "      <td>...</td>\n",
       "      <td>...</td>\n",
       "      <td>...</td>\n",
       "      <td>...</td>\n",
       "      <td>...</td>\n",
       "      <td>...</td>\n",
       "      <td>...</td>\n",
       "      <td>...</td>\n",
       "      <td>...</td>\n",
       "      <td>...</td>\n",
       "      <td>...</td>\n",
       "      <td>...</td>\n",
       "      <td>...</td>\n",
       "      <td>...</td>\n",
       "      <td>...</td>\n",
       "      <td>...</td>\n",
       "      <td>...</td>\n",
       "      <td>...</td>\n",
       "      <td>...</td>\n",
       "      <td>...</td>\n",
       "      <td>...</td>\n",
       "    </tr>\n",
       "    <tr>\n",
       "      <th>142234</th>\n",
       "      <td>Darwin</td>\n",
       "      <td>25.6</td>\n",
       "      <td>33.0</td>\n",
       "      <td>7.2</td>\n",
       "      <td>5.6</td>\n",
       "      <td>7.9</td>\n",
       "      <td>ENE</td>\n",
       "      <td>39.0</td>\n",
       "      <td>ENE</td>\n",
       "      <td>NE</td>\n",
       "      <td>...</td>\n",
       "      <td>1008.4</td>\n",
       "      <td>5.0</td>\n",
       "      <td>3.0</td>\n",
       "      <td>29.3</td>\n",
       "      <td>32.5</td>\n",
       "      <td>Yes</td>\n",
       "      <td>No</td>\n",
       "      <td>2017</td>\n",
       "      <td>4</td>\n",
       "      <td>17</td>\n",
       "    </tr>\n",
       "    <tr>\n",
       "      <th>142236</th>\n",
       "      <td>Darwin</td>\n",
       "      <td>25.2</td>\n",
       "      <td>33.5</td>\n",
       "      <td>0.0</td>\n",
       "      <td>4.8</td>\n",
       "      <td>11.2</td>\n",
       "      <td>ENE</td>\n",
       "      <td>37.0</td>\n",
       "      <td>E</td>\n",
       "      <td>WNW</td>\n",
       "      <td>...</td>\n",
       "      <td>1010.1</td>\n",
       "      <td>1.0</td>\n",
       "      <td>4.0</td>\n",
       "      <td>28.9</td>\n",
       "      <td>33.1</td>\n",
       "      <td>No</td>\n",
       "      <td>Yes</td>\n",
       "      <td>2017</td>\n",
       "      <td>4</td>\n",
       "      <td>19</td>\n",
       "    </tr>\n",
       "    <tr>\n",
       "      <th>142237</th>\n",
       "      <td>Darwin</td>\n",
       "      <td>24.7</td>\n",
       "      <td>33.7</td>\n",
       "      <td>1.8</td>\n",
       "      <td>6.2</td>\n",
       "      <td>9.7</td>\n",
       "      <td>ENE</td>\n",
       "      <td>33.0</td>\n",
       "      <td>ESE</td>\n",
       "      <td>ENE</td>\n",
       "      <td>...</td>\n",
       "      <td>1010.0</td>\n",
       "      <td>6.0</td>\n",
       "      <td>6.0</td>\n",
       "      <td>27.7</td>\n",
       "      <td>33.1</td>\n",
       "      <td>Yes</td>\n",
       "      <td>No</td>\n",
       "      <td>2017</td>\n",
       "      <td>4</td>\n",
       "      <td>20</td>\n",
       "    </tr>\n",
       "    <tr>\n",
       "      <th>142244</th>\n",
       "      <td>Darwin</td>\n",
       "      <td>24.4</td>\n",
       "      <td>27.4</td>\n",
       "      <td>0.2</td>\n",
       "      <td>2.2</td>\n",
       "      <td>0.0</td>\n",
       "      <td>ESE</td>\n",
       "      <td>39.0</td>\n",
       "      <td>SE</td>\n",
       "      <td>ESE</td>\n",
       "      <td>...</td>\n",
       "      <td>1008.8</td>\n",
       "      <td>8.0</td>\n",
       "      <td>8.0</td>\n",
       "      <td>25.5</td>\n",
       "      <td>25.9</td>\n",
       "      <td>No</td>\n",
       "      <td>Yes</td>\n",
       "      <td>2017</td>\n",
       "      <td>4</td>\n",
       "      <td>27</td>\n",
       "    </tr>\n",
       "    <tr>\n",
       "      <th>142245</th>\n",
       "      <td>Darwin</td>\n",
       "      <td>23.9</td>\n",
       "      <td>27.2</td>\n",
       "      <td>3.4</td>\n",
       "      <td>1.6</td>\n",
       "      <td>0.4</td>\n",
       "      <td>ESE</td>\n",
       "      <td>31.0</td>\n",
       "      <td>ESE</td>\n",
       "      <td>ESE</td>\n",
       "      <td>...</td>\n",
       "      <td>1010.6</td>\n",
       "      <td>7.0</td>\n",
       "      <td>7.0</td>\n",
       "      <td>24.8</td>\n",
       "      <td>26.9</td>\n",
       "      <td>Yes</td>\n",
       "      <td>No</td>\n",
       "      <td>2017</td>\n",
       "      <td>4</td>\n",
       "      <td>28</td>\n",
       "    </tr>\n",
       "  </tbody>\n",
       "</table>\n",
       "<p>13403 rows × 25 columns</p>\n",
       "</div>"
      ],
      "text/plain": [
       "       Location  MinTemp  MaxTemp  Rainfall  Evaporation  Sunshine  \\\n",
       "6067      Cobar     21.4     37.5       0.0         14.8       6.9   \n",
       "6068      Cobar     23.3     39.4       4.8         12.0      10.9   \n",
       "6070      Cobar     21.8     30.7       0.0          8.0       5.9   \n",
       "6072      Cobar     22.1     34.7       8.6          8.6      12.4   \n",
       "6082      Cobar     23.6     40.4       0.6         11.8      12.2   \n",
       "...         ...      ...      ...       ...          ...       ...   \n",
       "142234   Darwin     25.6     33.0       7.2          5.6       7.9   \n",
       "142236   Darwin     25.2     33.5       0.0          4.8      11.2   \n",
       "142237   Darwin     24.7     33.7       1.8          6.2       9.7   \n",
       "142244   Darwin     24.4     27.4       0.2          2.2       0.0   \n",
       "142245   Darwin     23.9     27.2       3.4          1.6       0.4   \n",
       "\n",
       "       WindGustDir  WindGustSpeed WindDir9am WindDir3pm  ...  Pressure3pm  \\\n",
       "6067           NNE           43.0        ENE        NNE  ...       1009.6   \n",
       "6068             W           59.0          N         NW  ...       1008.5   \n",
       "6070           WNW           56.0          N          N  ...       1006.2   \n",
       "6072           NNW           50.0        SSW         SW  ...       1008.3   \n",
       "6082           WSW           54.0          E        SSW  ...       1005.0   \n",
       "...            ...            ...        ...        ...  ...          ...   \n",
       "142234         ENE           39.0        ENE         NE  ...       1008.4   \n",
       "142236         ENE           37.0          E        WNW  ...       1010.1   \n",
       "142237         ENE           33.0        ESE        ENE  ...       1010.0   \n",
       "142244         ESE           39.0         SE        ESE  ...       1008.8   \n",
       "142245         ESE           31.0        ESE        ESE  ...       1010.6   \n",
       "\n",
       "        Cloud9am  Cloud3pm  Temp9am  Temp3pm  RainToday  RainTomorrow  year  \\\n",
       "6067         7.0       6.0     26.2     34.1         No           Yes  2009   \n",
       "6068         1.0       7.0     27.0     37.0        Yes            No  2009   \n",
       "6070         7.0       7.0     24.4     27.3         No           Yes  2009   \n",
       "6072         2.0       6.0     28.1     33.2        Yes            No  2009   \n",
       "6082         1.0       2.0     29.9     38.7         No           Yes  2009   \n",
       "...          ...       ...      ...      ...        ...           ...   ...   \n",
       "142234       5.0       3.0     29.3     32.5        Yes            No  2017   \n",
       "142236       1.0       4.0     28.9     33.1         No           Yes  2017   \n",
       "142237       6.0       6.0     27.7     33.1        Yes            No  2017   \n",
       "142244       8.0       8.0     25.5     25.9         No           Yes  2017   \n",
       "142245       7.0       7.0     24.8     26.9        Yes            No  2017   \n",
       "\n",
       "        month  day  \n",
       "6067        1   19  \n",
       "6068        1   20  \n",
       "6070        1   22  \n",
       "6072        1   24  \n",
       "6082        2    3  \n",
       "...       ...  ...  \n",
       "142234      4   17  \n",
       "142236      4   19  \n",
       "142237      4   20  \n",
       "142244      4   27  \n",
       "142245      4   28  \n",
       "\n",
       "[13403 rows x 25 columns]"
      ]
     },
     "execution_count": 72,
     "metadata": {},
     "output_type": "execute_result"
    }
   ],
   "source": [
    "data_copy.loc[(data_copy.RainToday!=data_copy.RainTomorrow)]"
   ]
  },
  {
   "cell_type": "code",
   "execution_count": 73,
   "metadata": {},
   "outputs": [],
   "source": [
    "data_copy['RainToday'] = [0 if x == 'No' else 1 for x in data_copy['RainToday']]\n",
    "data_copy['RainTomorrow'] = [0 if x == 'No' else 1 for x in data_copy['RainTomorrow']]"
   ]
  },
  {
   "cell_type": "code",
   "execution_count": 74,
   "metadata": {},
   "outputs": [
    {
     "data": {
      "text/html": [
       "<div>\n",
       "<style scoped>\n",
       "    .dataframe tbody tr th:only-of-type {\n",
       "        vertical-align: middle;\n",
       "    }\n",
       "\n",
       "    .dataframe tbody tr th {\n",
       "        vertical-align: top;\n",
       "    }\n",
       "\n",
       "    .dataframe thead th {\n",
       "        text-align: right;\n",
       "    }\n",
       "</style>\n",
       "<table border=\"1\" class=\"dataframe\">\n",
       "  <thead>\n",
       "    <tr style=\"text-align: right;\">\n",
       "      <th></th>\n",
       "      <th>Location</th>\n",
       "      <th>MinTemp</th>\n",
       "      <th>MaxTemp</th>\n",
       "      <th>Rainfall</th>\n",
       "      <th>Evaporation</th>\n",
       "      <th>Sunshine</th>\n",
       "      <th>WindGustDir</th>\n",
       "      <th>WindGustSpeed</th>\n",
       "      <th>WindDir9am</th>\n",
       "      <th>WindDir3pm</th>\n",
       "      <th>...</th>\n",
       "      <th>Pressure3pm</th>\n",
       "      <th>Cloud9am</th>\n",
       "      <th>Cloud3pm</th>\n",
       "      <th>Temp9am</th>\n",
       "      <th>Temp3pm</th>\n",
       "      <th>RainToday</th>\n",
       "      <th>RainTomorrow</th>\n",
       "      <th>year</th>\n",
       "      <th>month</th>\n",
       "      <th>day</th>\n",
       "    </tr>\n",
       "  </thead>\n",
       "  <tbody>\n",
       "    <tr>\n",
       "      <th>6049</th>\n",
       "      <td>Cobar</td>\n",
       "      <td>17.9</td>\n",
       "      <td>35.2</td>\n",
       "      <td>0.0</td>\n",
       "      <td>12.0</td>\n",
       "      <td>12.3</td>\n",
       "      <td>SSW</td>\n",
       "      <td>48.0</td>\n",
       "      <td>ENE</td>\n",
       "      <td>SW</td>\n",
       "      <td>...</td>\n",
       "      <td>1004.4</td>\n",
       "      <td>2.0</td>\n",
       "      <td>5.0</td>\n",
       "      <td>26.6</td>\n",
       "      <td>33.4</td>\n",
       "      <td>0</td>\n",
       "      <td>0</td>\n",
       "      <td>2009</td>\n",
       "      <td>1</td>\n",
       "      <td>1</td>\n",
       "    </tr>\n",
       "    <tr>\n",
       "      <th>6050</th>\n",
       "      <td>Cobar</td>\n",
       "      <td>18.4</td>\n",
       "      <td>28.9</td>\n",
       "      <td>0.0</td>\n",
       "      <td>14.8</td>\n",
       "      <td>13.0</td>\n",
       "      <td>S</td>\n",
       "      <td>37.0</td>\n",
       "      <td>SSE</td>\n",
       "      <td>SSE</td>\n",
       "      <td>...</td>\n",
       "      <td>1012.1</td>\n",
       "      <td>1.0</td>\n",
       "      <td>1.0</td>\n",
       "      <td>20.3</td>\n",
       "      <td>27.0</td>\n",
       "      <td>0</td>\n",
       "      <td>0</td>\n",
       "      <td>2009</td>\n",
       "      <td>1</td>\n",
       "      <td>2</td>\n",
       "    </tr>\n",
       "    <tr>\n",
       "      <th>6052</th>\n",
       "      <td>Cobar</td>\n",
       "      <td>19.4</td>\n",
       "      <td>37.6</td>\n",
       "      <td>0.0</td>\n",
       "      <td>10.8</td>\n",
       "      <td>10.6</td>\n",
       "      <td>NNE</td>\n",
       "      <td>46.0</td>\n",
       "      <td>NNE</td>\n",
       "      <td>NNW</td>\n",
       "      <td>...</td>\n",
       "      <td>1009.2</td>\n",
       "      <td>1.0</td>\n",
       "      <td>6.0</td>\n",
       "      <td>28.7</td>\n",
       "      <td>34.9</td>\n",
       "      <td>0</td>\n",
       "      <td>0</td>\n",
       "      <td>2009</td>\n",
       "      <td>1</td>\n",
       "      <td>4</td>\n",
       "    </tr>\n",
       "    <tr>\n",
       "      <th>6053</th>\n",
       "      <td>Cobar</td>\n",
       "      <td>21.9</td>\n",
       "      <td>38.4</td>\n",
       "      <td>0.0</td>\n",
       "      <td>11.4</td>\n",
       "      <td>12.2</td>\n",
       "      <td>WNW</td>\n",
       "      <td>31.0</td>\n",
       "      <td>WNW</td>\n",
       "      <td>WSW</td>\n",
       "      <td>...</td>\n",
       "      <td>1009.1</td>\n",
       "      <td>1.0</td>\n",
       "      <td>5.0</td>\n",
       "      <td>29.1</td>\n",
       "      <td>35.6</td>\n",
       "      <td>0</td>\n",
       "      <td>0</td>\n",
       "      <td>2009</td>\n",
       "      <td>1</td>\n",
       "      <td>5</td>\n",
       "    </tr>\n",
       "    <tr>\n",
       "      <th>6054</th>\n",
       "      <td>Cobar</td>\n",
       "      <td>24.2</td>\n",
       "      <td>41.0</td>\n",
       "      <td>0.0</td>\n",
       "      <td>11.2</td>\n",
       "      <td>8.4</td>\n",
       "      <td>WNW</td>\n",
       "      <td>35.0</td>\n",
       "      <td>NW</td>\n",
       "      <td>WNW</td>\n",
       "      <td>...</td>\n",
       "      <td>1007.4</td>\n",
       "      <td>1.0</td>\n",
       "      <td>6.0</td>\n",
       "      <td>33.6</td>\n",
       "      <td>37.6</td>\n",
       "      <td>0</td>\n",
       "      <td>0</td>\n",
       "      <td>2009</td>\n",
       "      <td>1</td>\n",
       "      <td>6</td>\n",
       "    </tr>\n",
       "  </tbody>\n",
       "</table>\n",
       "<p>5 rows × 25 columns</p>\n",
       "</div>"
      ],
      "text/plain": [
       "     Location  MinTemp  MaxTemp  Rainfall  Evaporation  Sunshine WindGustDir  \\\n",
       "6049    Cobar     17.9     35.2       0.0         12.0      12.3         SSW   \n",
       "6050    Cobar     18.4     28.9       0.0         14.8      13.0           S   \n",
       "6052    Cobar     19.4     37.6       0.0         10.8      10.6         NNE   \n",
       "6053    Cobar     21.9     38.4       0.0         11.4      12.2         WNW   \n",
       "6054    Cobar     24.2     41.0       0.0         11.2       8.4         WNW   \n",
       "\n",
       "      WindGustSpeed WindDir9am WindDir3pm  ...  Pressure3pm  Cloud9am  \\\n",
       "6049           48.0        ENE         SW  ...       1004.4       2.0   \n",
       "6050           37.0        SSE        SSE  ...       1012.1       1.0   \n",
       "6052           46.0        NNE        NNW  ...       1009.2       1.0   \n",
       "6053           31.0        WNW        WSW  ...       1009.1       1.0   \n",
       "6054           35.0         NW        WNW  ...       1007.4       1.0   \n",
       "\n",
       "      Cloud3pm  Temp9am  Temp3pm  RainToday  RainTomorrow  year  month  day  \n",
       "6049       5.0     26.6     33.4          0             0  2009      1    1  \n",
       "6050       1.0     20.3     27.0          0             0  2009      1    2  \n",
       "6052       6.0     28.7     34.9          0             0  2009      1    4  \n",
       "6053       5.0     29.1     35.6          0             0  2009      1    5  \n",
       "6054       6.0     33.6     37.6          0             0  2009      1    6  \n",
       "\n",
       "[5 rows x 25 columns]"
      ]
     },
     "execution_count": 74,
     "metadata": {},
     "output_type": "execute_result"
    }
   ],
   "source": [
    "data_copy.head()"
   ]
  },
  {
   "cell_type": "code",
   "execution_count": 75,
   "metadata": {},
   "outputs": [
    {
     "name": "stdout",
     "output_type": "stream",
     "text": [
      "<class 'pandas.core.frame.DataFrame'>\n",
      "Int64Index: 56420 entries, 6049 to 142302\n",
      "Data columns (total 25 columns):\n",
      " #   Column         Non-Null Count  Dtype  \n",
      "---  ------         --------------  -----  \n",
      " 0   Location       56420 non-null  object \n",
      " 1   MinTemp        56420 non-null  float64\n",
      " 2   MaxTemp        56420 non-null  float64\n",
      " 3   Rainfall       56420 non-null  float64\n",
      " 4   Evaporation    56420 non-null  float64\n",
      " 5   Sunshine       56420 non-null  float64\n",
      " 6   WindGustDir    56420 non-null  object \n",
      " 7   WindGustSpeed  56420 non-null  float64\n",
      " 8   WindDir9am     56420 non-null  object \n",
      " 9   WindDir3pm     56420 non-null  object \n",
      " 10  WindSpeed9am   56420 non-null  float64\n",
      " 11  WindSpeed3pm   56420 non-null  float64\n",
      " 12  Humidity9am    56420 non-null  float64\n",
      " 13  Humidity3pm    56420 non-null  float64\n",
      " 14  Pressure9am    56420 non-null  float64\n",
      " 15  Pressure3pm    56420 non-null  float64\n",
      " 16  Cloud9am       56420 non-null  float64\n",
      " 17  Cloud3pm       56420 non-null  float64\n",
      " 18  Temp9am        56420 non-null  float64\n",
      " 19  Temp3pm        56420 non-null  float64\n",
      " 20  RainToday      56420 non-null  int64  \n",
      " 21  RainTomorrow   56420 non-null  int64  \n",
      " 22  year           56420 non-null  int64  \n",
      " 23  month          56420 non-null  int64  \n",
      " 24  day            56420 non-null  int64  \n",
      "dtypes: float64(16), int64(5), object(4)\n",
      "memory usage: 11.2+ MB\n"
     ]
    }
   ],
   "source": [
    "data_copy.info()"
   ]
  },
  {
   "cell_type": "code",
   "execution_count": 76,
   "metadata": {},
   "outputs": [
    {
     "data": {
      "text/plain": [
       "array(['SW', 'SSE', 'NNW', 'WSW', 'WNW', 'S', 'ENE', 'N', 'SE', 'NNE',\n",
       "       'NW', 'E', 'ESE', 'NE', 'SSW', 'W'], dtype=object)"
      ]
     },
     "execution_count": 76,
     "metadata": {},
     "output_type": "execute_result"
    }
   ],
   "source": [
    "data_copy.WindDir3pm.unique()"
   ]
  },
  {
   "cell_type": "code",
   "execution_count": 77,
   "metadata": {},
   "outputs": [],
   "source": [
    "data_copy['WindGustDir_S']=[1 if 'S' in x else 0 for x in data_copy['WindGustDir']]\n",
    "data_copy['WindGustDir_W']=[1 if 'W' in x else 0 for x in data_copy['WindGustDir']]\n",
    "data_copy['WindGustDir_E']=[1 if 'E' in x else 0 for x in data_copy['WindGustDir']]\n",
    "data_copy['WindGustDir_N']=[1 if 'N' in x else 0 for x in data_copy['WindGustDir']]\n",
    "data_copy['WindDir9am_S']=[1 if 'S' in x else 0 for x in data_copy['WindDir9am']]\n",
    "data_copy['WindDir9am_W']=[1 if 'W' in x else 0 for x in data_copy['WindDir9am']]\n",
    "data_copy['WindDir9am_E']=[1 if 'E' in x else 0 for x in data_copy['WindDir9am']]\n",
    "data_copy['WindDir9am_N']=[1 if 'N' in x else 0 for x in data_copy['WindDir9am']]\n",
    "data_copy['WindDir3pm_S']=[1 if 'S' in x else 0 for x in data_copy['WindDir3pm']]\n",
    "data_copy['WindDir3pm_W']=[1 if 'W' in x else 0 for x in data_copy['WindDir3pm']]\n",
    "data_copy['WindDir3pm_E']=[1 if 'E' in x else 0 for x in data_copy['WindDir3pm']]\n",
    "data_copy['WindDir3pm_N']=[1 if 'N' in x else 0 for x in data_copy['WindDir3pm']]"
   ]
  },
  {
   "cell_type": "code",
   "execution_count": 78,
   "metadata": {},
   "outputs": [
    {
     "data": {
      "text/html": [
       "<div>\n",
       "<style scoped>\n",
       "    .dataframe tbody tr th:only-of-type {\n",
       "        vertical-align: middle;\n",
       "    }\n",
       "\n",
       "    .dataframe tbody tr th {\n",
       "        vertical-align: top;\n",
       "    }\n",
       "\n",
       "    .dataframe thead th {\n",
       "        text-align: right;\n",
       "    }\n",
       "</style>\n",
       "<table border=\"1\" class=\"dataframe\">\n",
       "  <thead>\n",
       "    <tr style=\"text-align: right;\">\n",
       "      <th></th>\n",
       "      <th>Location</th>\n",
       "      <th>MinTemp</th>\n",
       "      <th>MaxTemp</th>\n",
       "      <th>Rainfall</th>\n",
       "      <th>Evaporation</th>\n",
       "      <th>Sunshine</th>\n",
       "      <th>WindGustDir</th>\n",
       "      <th>WindGustSpeed</th>\n",
       "      <th>WindDir9am</th>\n",
       "      <th>WindDir3pm</th>\n",
       "      <th>...</th>\n",
       "      <th>WindGustDir_E</th>\n",
       "      <th>WindGustDir_N</th>\n",
       "      <th>WindDir9am_S</th>\n",
       "      <th>WindDir9am_W</th>\n",
       "      <th>WindDir9am_E</th>\n",
       "      <th>WindDir9am_N</th>\n",
       "      <th>WindDir3pm_S</th>\n",
       "      <th>WindDir3pm_W</th>\n",
       "      <th>WindDir3pm_E</th>\n",
       "      <th>WindDir3pm_N</th>\n",
       "    </tr>\n",
       "  </thead>\n",
       "  <tbody>\n",
       "    <tr>\n",
       "      <th>6049</th>\n",
       "      <td>Cobar</td>\n",
       "      <td>17.9</td>\n",
       "      <td>35.2</td>\n",
       "      <td>0.0</td>\n",
       "      <td>12.0</td>\n",
       "      <td>12.3</td>\n",
       "      <td>SSW</td>\n",
       "      <td>48.0</td>\n",
       "      <td>ENE</td>\n",
       "      <td>SW</td>\n",
       "      <td>...</td>\n",
       "      <td>0</td>\n",
       "      <td>0</td>\n",
       "      <td>0</td>\n",
       "      <td>0</td>\n",
       "      <td>1</td>\n",
       "      <td>1</td>\n",
       "      <td>1</td>\n",
       "      <td>1</td>\n",
       "      <td>0</td>\n",
       "      <td>0</td>\n",
       "    </tr>\n",
       "    <tr>\n",
       "      <th>6050</th>\n",
       "      <td>Cobar</td>\n",
       "      <td>18.4</td>\n",
       "      <td>28.9</td>\n",
       "      <td>0.0</td>\n",
       "      <td>14.8</td>\n",
       "      <td>13.0</td>\n",
       "      <td>S</td>\n",
       "      <td>37.0</td>\n",
       "      <td>SSE</td>\n",
       "      <td>SSE</td>\n",
       "      <td>...</td>\n",
       "      <td>0</td>\n",
       "      <td>0</td>\n",
       "      <td>1</td>\n",
       "      <td>0</td>\n",
       "      <td>1</td>\n",
       "      <td>0</td>\n",
       "      <td>1</td>\n",
       "      <td>0</td>\n",
       "      <td>1</td>\n",
       "      <td>0</td>\n",
       "    </tr>\n",
       "    <tr>\n",
       "      <th>6052</th>\n",
       "      <td>Cobar</td>\n",
       "      <td>19.4</td>\n",
       "      <td>37.6</td>\n",
       "      <td>0.0</td>\n",
       "      <td>10.8</td>\n",
       "      <td>10.6</td>\n",
       "      <td>NNE</td>\n",
       "      <td>46.0</td>\n",
       "      <td>NNE</td>\n",
       "      <td>NNW</td>\n",
       "      <td>...</td>\n",
       "      <td>1</td>\n",
       "      <td>1</td>\n",
       "      <td>0</td>\n",
       "      <td>0</td>\n",
       "      <td>1</td>\n",
       "      <td>1</td>\n",
       "      <td>0</td>\n",
       "      <td>1</td>\n",
       "      <td>0</td>\n",
       "      <td>1</td>\n",
       "    </tr>\n",
       "    <tr>\n",
       "      <th>6053</th>\n",
       "      <td>Cobar</td>\n",
       "      <td>21.9</td>\n",
       "      <td>38.4</td>\n",
       "      <td>0.0</td>\n",
       "      <td>11.4</td>\n",
       "      <td>12.2</td>\n",
       "      <td>WNW</td>\n",
       "      <td>31.0</td>\n",
       "      <td>WNW</td>\n",
       "      <td>WSW</td>\n",
       "      <td>...</td>\n",
       "      <td>0</td>\n",
       "      <td>1</td>\n",
       "      <td>0</td>\n",
       "      <td>1</td>\n",
       "      <td>0</td>\n",
       "      <td>1</td>\n",
       "      <td>1</td>\n",
       "      <td>1</td>\n",
       "      <td>0</td>\n",
       "      <td>0</td>\n",
       "    </tr>\n",
       "    <tr>\n",
       "      <th>6054</th>\n",
       "      <td>Cobar</td>\n",
       "      <td>24.2</td>\n",
       "      <td>41.0</td>\n",
       "      <td>0.0</td>\n",
       "      <td>11.2</td>\n",
       "      <td>8.4</td>\n",
       "      <td>WNW</td>\n",
       "      <td>35.0</td>\n",
       "      <td>NW</td>\n",
       "      <td>WNW</td>\n",
       "      <td>...</td>\n",
       "      <td>0</td>\n",
       "      <td>1</td>\n",
       "      <td>0</td>\n",
       "      <td>1</td>\n",
       "      <td>0</td>\n",
       "      <td>1</td>\n",
       "      <td>0</td>\n",
       "      <td>1</td>\n",
       "      <td>0</td>\n",
       "      <td>1</td>\n",
       "    </tr>\n",
       "  </tbody>\n",
       "</table>\n",
       "<p>5 rows × 37 columns</p>\n",
       "</div>"
      ],
      "text/plain": [
       "     Location  MinTemp  MaxTemp  Rainfall  Evaporation  Sunshine WindGustDir  \\\n",
       "6049    Cobar     17.9     35.2       0.0         12.0      12.3         SSW   \n",
       "6050    Cobar     18.4     28.9       0.0         14.8      13.0           S   \n",
       "6052    Cobar     19.4     37.6       0.0         10.8      10.6         NNE   \n",
       "6053    Cobar     21.9     38.4       0.0         11.4      12.2         WNW   \n",
       "6054    Cobar     24.2     41.0       0.0         11.2       8.4         WNW   \n",
       "\n",
       "      WindGustSpeed WindDir9am WindDir3pm  ...  WindGustDir_E  WindGustDir_N  \\\n",
       "6049           48.0        ENE         SW  ...              0              0   \n",
       "6050           37.0        SSE        SSE  ...              0              0   \n",
       "6052           46.0        NNE        NNW  ...              1              1   \n",
       "6053           31.0        WNW        WSW  ...              0              1   \n",
       "6054           35.0         NW        WNW  ...              0              1   \n",
       "\n",
       "      WindDir9am_S  WindDir9am_W  WindDir9am_E  WindDir9am_N  WindDir3pm_S  \\\n",
       "6049             0             0             1             1             1   \n",
       "6050             1             0             1             0             1   \n",
       "6052             0             0             1             1             0   \n",
       "6053             0             1             0             1             1   \n",
       "6054             0             1             0             1             0   \n",
       "\n",
       "      WindDir3pm_W  WindDir3pm_E  WindDir3pm_N  \n",
       "6049             1             0             0  \n",
       "6050             0             1             0  \n",
       "6052             1             0             1  \n",
       "6053             1             0             0  \n",
       "6054             1             0             1  \n",
       "\n",
       "[5 rows x 37 columns]"
      ]
     },
     "execution_count": 78,
     "metadata": {},
     "output_type": "execute_result"
    }
   ],
   "source": [
    "data_copy.head()"
   ]
  },
  {
   "cell_type": "code",
   "execution_count": 79,
   "metadata": {},
   "outputs": [],
   "source": [
    "data_copy.drop(['WindGustDir', 'WindDir9am', 'WindDir3pm'],axis=1,inplace=True)"
   ]
  },
  {
   "cell_type": "code",
   "execution_count": 80,
   "metadata": {},
   "outputs": [
    {
     "data": {
      "text/html": [
       "<div>\n",
       "<style scoped>\n",
       "    .dataframe tbody tr th:only-of-type {\n",
       "        vertical-align: middle;\n",
       "    }\n",
       "\n",
       "    .dataframe tbody tr th {\n",
       "        vertical-align: top;\n",
       "    }\n",
       "\n",
       "    .dataframe thead th {\n",
       "        text-align: right;\n",
       "    }\n",
       "</style>\n",
       "<table border=\"1\" class=\"dataframe\">\n",
       "  <thead>\n",
       "    <tr style=\"text-align: right;\">\n",
       "      <th></th>\n",
       "      <th>Location</th>\n",
       "      <th>MinTemp</th>\n",
       "      <th>MaxTemp</th>\n",
       "      <th>Rainfall</th>\n",
       "      <th>Evaporation</th>\n",
       "      <th>Sunshine</th>\n",
       "      <th>WindGustSpeed</th>\n",
       "      <th>WindSpeed9am</th>\n",
       "      <th>WindSpeed3pm</th>\n",
       "      <th>Humidity9am</th>\n",
       "      <th>...</th>\n",
       "      <th>WindGustDir_E</th>\n",
       "      <th>WindGustDir_N</th>\n",
       "      <th>WindDir9am_S</th>\n",
       "      <th>WindDir9am_W</th>\n",
       "      <th>WindDir9am_E</th>\n",
       "      <th>WindDir9am_N</th>\n",
       "      <th>WindDir3pm_S</th>\n",
       "      <th>WindDir3pm_W</th>\n",
       "      <th>WindDir3pm_E</th>\n",
       "      <th>WindDir3pm_N</th>\n",
       "    </tr>\n",
       "  </thead>\n",
       "  <tbody>\n",
       "    <tr>\n",
       "      <th>6049</th>\n",
       "      <td>Cobar</td>\n",
       "      <td>17.9</td>\n",
       "      <td>35.2</td>\n",
       "      <td>0.0</td>\n",
       "      <td>12.0</td>\n",
       "      <td>12.3</td>\n",
       "      <td>48.0</td>\n",
       "      <td>6.0</td>\n",
       "      <td>20.0</td>\n",
       "      <td>20.0</td>\n",
       "      <td>...</td>\n",
       "      <td>0</td>\n",
       "      <td>0</td>\n",
       "      <td>0</td>\n",
       "      <td>0</td>\n",
       "      <td>1</td>\n",
       "      <td>1</td>\n",
       "      <td>1</td>\n",
       "      <td>1</td>\n",
       "      <td>0</td>\n",
       "      <td>0</td>\n",
       "    </tr>\n",
       "    <tr>\n",
       "      <th>6050</th>\n",
       "      <td>Cobar</td>\n",
       "      <td>18.4</td>\n",
       "      <td>28.9</td>\n",
       "      <td>0.0</td>\n",
       "      <td>14.8</td>\n",
       "      <td>13.0</td>\n",
       "      <td>37.0</td>\n",
       "      <td>19.0</td>\n",
       "      <td>19.0</td>\n",
       "      <td>30.0</td>\n",
       "      <td>...</td>\n",
       "      <td>0</td>\n",
       "      <td>0</td>\n",
       "      <td>1</td>\n",
       "      <td>0</td>\n",
       "      <td>1</td>\n",
       "      <td>0</td>\n",
       "      <td>1</td>\n",
       "      <td>0</td>\n",
       "      <td>1</td>\n",
       "      <td>0</td>\n",
       "    </tr>\n",
       "    <tr>\n",
       "      <th>6052</th>\n",
       "      <td>Cobar</td>\n",
       "      <td>19.4</td>\n",
       "      <td>37.6</td>\n",
       "      <td>0.0</td>\n",
       "      <td>10.8</td>\n",
       "      <td>10.6</td>\n",
       "      <td>46.0</td>\n",
       "      <td>30.0</td>\n",
       "      <td>15.0</td>\n",
       "      <td>42.0</td>\n",
       "      <td>...</td>\n",
       "      <td>1</td>\n",
       "      <td>1</td>\n",
       "      <td>0</td>\n",
       "      <td>0</td>\n",
       "      <td>1</td>\n",
       "      <td>1</td>\n",
       "      <td>0</td>\n",
       "      <td>1</td>\n",
       "      <td>0</td>\n",
       "      <td>1</td>\n",
       "    </tr>\n",
       "    <tr>\n",
       "      <th>6053</th>\n",
       "      <td>Cobar</td>\n",
       "      <td>21.9</td>\n",
       "      <td>38.4</td>\n",
       "      <td>0.0</td>\n",
       "      <td>11.4</td>\n",
       "      <td>12.2</td>\n",
       "      <td>31.0</td>\n",
       "      <td>6.0</td>\n",
       "      <td>6.0</td>\n",
       "      <td>37.0</td>\n",
       "      <td>...</td>\n",
       "      <td>0</td>\n",
       "      <td>1</td>\n",
       "      <td>0</td>\n",
       "      <td>1</td>\n",
       "      <td>0</td>\n",
       "      <td>1</td>\n",
       "      <td>1</td>\n",
       "      <td>1</td>\n",
       "      <td>0</td>\n",
       "      <td>0</td>\n",
       "    </tr>\n",
       "    <tr>\n",
       "      <th>6054</th>\n",
       "      <td>Cobar</td>\n",
       "      <td>24.2</td>\n",
       "      <td>41.0</td>\n",
       "      <td>0.0</td>\n",
       "      <td>11.2</td>\n",
       "      <td>8.4</td>\n",
       "      <td>35.0</td>\n",
       "      <td>17.0</td>\n",
       "      <td>13.0</td>\n",
       "      <td>19.0</td>\n",
       "      <td>...</td>\n",
       "      <td>0</td>\n",
       "      <td>1</td>\n",
       "      <td>0</td>\n",
       "      <td>1</td>\n",
       "      <td>0</td>\n",
       "      <td>1</td>\n",
       "      <td>0</td>\n",
       "      <td>1</td>\n",
       "      <td>0</td>\n",
       "      <td>1</td>\n",
       "    </tr>\n",
       "  </tbody>\n",
       "</table>\n",
       "<p>5 rows × 34 columns</p>\n",
       "</div>"
      ],
      "text/plain": [
       "     Location  MinTemp  MaxTemp  Rainfall  Evaporation  Sunshine  \\\n",
       "6049    Cobar     17.9     35.2       0.0         12.0      12.3   \n",
       "6050    Cobar     18.4     28.9       0.0         14.8      13.0   \n",
       "6052    Cobar     19.4     37.6       0.0         10.8      10.6   \n",
       "6053    Cobar     21.9     38.4       0.0         11.4      12.2   \n",
       "6054    Cobar     24.2     41.0       0.0         11.2       8.4   \n",
       "\n",
       "      WindGustSpeed  WindSpeed9am  WindSpeed3pm  Humidity9am  ...  \\\n",
       "6049           48.0           6.0          20.0         20.0  ...   \n",
       "6050           37.0          19.0          19.0         30.0  ...   \n",
       "6052           46.0          30.0          15.0         42.0  ...   \n",
       "6053           31.0           6.0           6.0         37.0  ...   \n",
       "6054           35.0          17.0          13.0         19.0  ...   \n",
       "\n",
       "      WindGustDir_E  WindGustDir_N  WindDir9am_S  WindDir9am_W  WindDir9am_E  \\\n",
       "6049              0              0             0             0             1   \n",
       "6050              0              0             1             0             1   \n",
       "6052              1              1             0             0             1   \n",
       "6053              0              1             0             1             0   \n",
       "6054              0              1             0             1             0   \n",
       "\n",
       "      WindDir9am_N  WindDir3pm_S  WindDir3pm_W  WindDir3pm_E  WindDir3pm_N  \n",
       "6049             1             1             1             0             0  \n",
       "6050             0             1             0             1             0  \n",
       "6052             1             0             1             0             1  \n",
       "6053             1             1             1             0             0  \n",
       "6054             1             0             1             0             1  \n",
       "\n",
       "[5 rows x 34 columns]"
      ]
     },
     "execution_count": 80,
     "metadata": {},
     "output_type": "execute_result"
    }
   ],
   "source": [
    "data_copy.head()"
   ]
  },
  {
   "cell_type": "code",
   "execution_count": 81,
   "metadata": {},
   "outputs": [
    {
     "data": {
      "text/plain": [
       "array(['Cobar', 'CoffsHarbour', 'Moree', 'NorfolkIsland', 'Sydney',\n",
       "       'SydneyAirport', 'WaggaWagga', 'Williamtown', 'Canberra', 'Sale',\n",
       "       'MelbourneAirport', 'Melbourne', 'Mildura', 'Portland', 'Watsonia',\n",
       "       'Brisbane', 'Cairns', 'Townsville', 'MountGambier', 'Nuriootpa',\n",
       "       'Woomera', 'PerthAirport', 'Perth', 'Hobart', 'AliceSprings',\n",
       "       'Darwin'], dtype=object)"
      ]
     },
     "execution_count": 81,
     "metadata": {},
     "output_type": "execute_result"
    }
   ],
   "source": [
    "data_copy.Location.unique()"
   ]
  },
  {
   "cell_type": "code",
   "execution_count": 82,
   "metadata": {},
   "outputs": [],
   "source": [
    "from sklearn.preprocessing import OneHotEncoder\n",
    "ohe = OneHotEncoder(handle_unknown='ignore')\n",
    "transformed_Loacation = ohe.fit_transform(data_copy[['Location']]).toarray()"
   ]
  },
  {
   "cell_type": "code",
   "execution_count": 83,
   "metadata": {},
   "outputs": [
    {
     "data": {
      "text/plain": [
       "56420"
      ]
     },
     "execution_count": 83,
     "metadata": {},
     "output_type": "execute_result"
    }
   ],
   "source": [
    "len(transformed_Loacation)"
   ]
  },
  {
   "cell_type": "code",
   "execution_count": 84,
   "metadata": {},
   "outputs": [
    {
     "name": "stdout",
     "output_type": "stream",
     "text": [
      "[array(['AliceSprings', 'Brisbane', 'Cairns', 'Canberra', 'Cobar',\n",
      "       'CoffsHarbour', 'Darwin', 'Hobart', 'Melbourne',\n",
      "       'MelbourneAirport', 'Mildura', 'Moree', 'MountGambier',\n",
      "       'NorfolkIsland', 'Nuriootpa', 'Perth', 'PerthAirport', 'Portland',\n",
      "       'Sale', 'Sydney', 'SydneyAirport', 'Townsville', 'WaggaWagga',\n",
      "       'Watsonia', 'Williamtown', 'Woomera'], dtype=object)]\n"
     ]
    }
   ],
   "source": [
    "print(ohe.categories_)"
   ]
  },
  {
   "cell_type": "code",
   "execution_count": 85,
   "metadata": {},
   "outputs": [
    {
     "data": {
      "text/html": [
       "<div>\n",
       "<style scoped>\n",
       "    .dataframe tbody tr th:only-of-type {\n",
       "        vertical-align: middle;\n",
       "    }\n",
       "\n",
       "    .dataframe tbody tr th {\n",
       "        vertical-align: top;\n",
       "    }\n",
       "\n",
       "    .dataframe thead th {\n",
       "        text-align: right;\n",
       "    }\n",
       "</style>\n",
       "<table border=\"1\" class=\"dataframe\">\n",
       "  <thead>\n",
       "    <tr style=\"text-align: right;\">\n",
       "      <th></th>\n",
       "      <th>AliceSprings</th>\n",
       "      <th>Brisbane</th>\n",
       "      <th>Cairns</th>\n",
       "      <th>Canberra</th>\n",
       "      <th>Cobar</th>\n",
       "      <th>CoffsHarbour</th>\n",
       "      <th>Darwin</th>\n",
       "      <th>Hobart</th>\n",
       "      <th>Melbourne</th>\n",
       "      <th>MelbourneAirport</th>\n",
       "      <th>...</th>\n",
       "      <th>PerthAirport</th>\n",
       "      <th>Portland</th>\n",
       "      <th>Sale</th>\n",
       "      <th>Sydney</th>\n",
       "      <th>SydneyAirport</th>\n",
       "      <th>Townsville</th>\n",
       "      <th>WaggaWagga</th>\n",
       "      <th>Watsonia</th>\n",
       "      <th>Williamtown</th>\n",
       "      <th>Woomera</th>\n",
       "    </tr>\n",
       "  </thead>\n",
       "  <tbody>\n",
       "    <tr>\n",
       "      <th>0</th>\n",
       "      <td>0.0</td>\n",
       "      <td>0.0</td>\n",
       "      <td>0.0</td>\n",
       "      <td>0.0</td>\n",
       "      <td>1.0</td>\n",
       "      <td>0.0</td>\n",
       "      <td>0.0</td>\n",
       "      <td>0.0</td>\n",
       "      <td>0.0</td>\n",
       "      <td>0.0</td>\n",
       "      <td>...</td>\n",
       "      <td>0.0</td>\n",
       "      <td>0.0</td>\n",
       "      <td>0.0</td>\n",
       "      <td>0.0</td>\n",
       "      <td>0.0</td>\n",
       "      <td>0.0</td>\n",
       "      <td>0.0</td>\n",
       "      <td>0.0</td>\n",
       "      <td>0.0</td>\n",
       "      <td>0.0</td>\n",
       "    </tr>\n",
       "    <tr>\n",
       "      <th>1</th>\n",
       "      <td>0.0</td>\n",
       "      <td>0.0</td>\n",
       "      <td>0.0</td>\n",
       "      <td>0.0</td>\n",
       "      <td>1.0</td>\n",
       "      <td>0.0</td>\n",
       "      <td>0.0</td>\n",
       "      <td>0.0</td>\n",
       "      <td>0.0</td>\n",
       "      <td>0.0</td>\n",
       "      <td>...</td>\n",
       "      <td>0.0</td>\n",
       "      <td>0.0</td>\n",
       "      <td>0.0</td>\n",
       "      <td>0.0</td>\n",
       "      <td>0.0</td>\n",
       "      <td>0.0</td>\n",
       "      <td>0.0</td>\n",
       "      <td>0.0</td>\n",
       "      <td>0.0</td>\n",
       "      <td>0.0</td>\n",
       "    </tr>\n",
       "    <tr>\n",
       "      <th>2</th>\n",
       "      <td>0.0</td>\n",
       "      <td>0.0</td>\n",
       "      <td>0.0</td>\n",
       "      <td>0.0</td>\n",
       "      <td>1.0</td>\n",
       "      <td>0.0</td>\n",
       "      <td>0.0</td>\n",
       "      <td>0.0</td>\n",
       "      <td>0.0</td>\n",
       "      <td>0.0</td>\n",
       "      <td>...</td>\n",
       "      <td>0.0</td>\n",
       "      <td>0.0</td>\n",
       "      <td>0.0</td>\n",
       "      <td>0.0</td>\n",
       "      <td>0.0</td>\n",
       "      <td>0.0</td>\n",
       "      <td>0.0</td>\n",
       "      <td>0.0</td>\n",
       "      <td>0.0</td>\n",
       "      <td>0.0</td>\n",
       "    </tr>\n",
       "    <tr>\n",
       "      <th>3</th>\n",
       "      <td>0.0</td>\n",
       "      <td>0.0</td>\n",
       "      <td>0.0</td>\n",
       "      <td>0.0</td>\n",
       "      <td>1.0</td>\n",
       "      <td>0.0</td>\n",
       "      <td>0.0</td>\n",
       "      <td>0.0</td>\n",
       "      <td>0.0</td>\n",
       "      <td>0.0</td>\n",
       "      <td>...</td>\n",
       "      <td>0.0</td>\n",
       "      <td>0.0</td>\n",
       "      <td>0.0</td>\n",
       "      <td>0.0</td>\n",
       "      <td>0.0</td>\n",
       "      <td>0.0</td>\n",
       "      <td>0.0</td>\n",
       "      <td>0.0</td>\n",
       "      <td>0.0</td>\n",
       "      <td>0.0</td>\n",
       "    </tr>\n",
       "    <tr>\n",
       "      <th>4</th>\n",
       "      <td>0.0</td>\n",
       "      <td>0.0</td>\n",
       "      <td>0.0</td>\n",
       "      <td>0.0</td>\n",
       "      <td>1.0</td>\n",
       "      <td>0.0</td>\n",
       "      <td>0.0</td>\n",
       "      <td>0.0</td>\n",
       "      <td>0.0</td>\n",
       "      <td>0.0</td>\n",
       "      <td>...</td>\n",
       "      <td>0.0</td>\n",
       "      <td>0.0</td>\n",
       "      <td>0.0</td>\n",
       "      <td>0.0</td>\n",
       "      <td>0.0</td>\n",
       "      <td>0.0</td>\n",
       "      <td>0.0</td>\n",
       "      <td>0.0</td>\n",
       "      <td>0.0</td>\n",
       "      <td>0.0</td>\n",
       "    </tr>\n",
       "    <tr>\n",
       "      <th>...</th>\n",
       "      <td>...</td>\n",
       "      <td>...</td>\n",
       "      <td>...</td>\n",
       "      <td>...</td>\n",
       "      <td>...</td>\n",
       "      <td>...</td>\n",
       "      <td>...</td>\n",
       "      <td>...</td>\n",
       "      <td>...</td>\n",
       "      <td>...</td>\n",
       "      <td>...</td>\n",
       "      <td>...</td>\n",
       "      <td>...</td>\n",
       "      <td>...</td>\n",
       "      <td>...</td>\n",
       "      <td>...</td>\n",
       "      <td>...</td>\n",
       "      <td>...</td>\n",
       "      <td>...</td>\n",
       "      <td>...</td>\n",
       "      <td>...</td>\n",
       "    </tr>\n",
       "    <tr>\n",
       "      <th>56415</th>\n",
       "      <td>0.0</td>\n",
       "      <td>0.0</td>\n",
       "      <td>0.0</td>\n",
       "      <td>0.0</td>\n",
       "      <td>0.0</td>\n",
       "      <td>0.0</td>\n",
       "      <td>1.0</td>\n",
       "      <td>0.0</td>\n",
       "      <td>0.0</td>\n",
       "      <td>0.0</td>\n",
       "      <td>...</td>\n",
       "      <td>0.0</td>\n",
       "      <td>0.0</td>\n",
       "      <td>0.0</td>\n",
       "      <td>0.0</td>\n",
       "      <td>0.0</td>\n",
       "      <td>0.0</td>\n",
       "      <td>0.0</td>\n",
       "      <td>0.0</td>\n",
       "      <td>0.0</td>\n",
       "      <td>0.0</td>\n",
       "    </tr>\n",
       "    <tr>\n",
       "      <th>56416</th>\n",
       "      <td>0.0</td>\n",
       "      <td>0.0</td>\n",
       "      <td>0.0</td>\n",
       "      <td>0.0</td>\n",
       "      <td>0.0</td>\n",
       "      <td>0.0</td>\n",
       "      <td>1.0</td>\n",
       "      <td>0.0</td>\n",
       "      <td>0.0</td>\n",
       "      <td>0.0</td>\n",
       "      <td>...</td>\n",
       "      <td>0.0</td>\n",
       "      <td>0.0</td>\n",
       "      <td>0.0</td>\n",
       "      <td>0.0</td>\n",
       "      <td>0.0</td>\n",
       "      <td>0.0</td>\n",
       "      <td>0.0</td>\n",
       "      <td>0.0</td>\n",
       "      <td>0.0</td>\n",
       "      <td>0.0</td>\n",
       "    </tr>\n",
       "    <tr>\n",
       "      <th>56417</th>\n",
       "      <td>0.0</td>\n",
       "      <td>0.0</td>\n",
       "      <td>0.0</td>\n",
       "      <td>0.0</td>\n",
       "      <td>0.0</td>\n",
       "      <td>0.0</td>\n",
       "      <td>1.0</td>\n",
       "      <td>0.0</td>\n",
       "      <td>0.0</td>\n",
       "      <td>0.0</td>\n",
       "      <td>...</td>\n",
       "      <td>0.0</td>\n",
       "      <td>0.0</td>\n",
       "      <td>0.0</td>\n",
       "      <td>0.0</td>\n",
       "      <td>0.0</td>\n",
       "      <td>0.0</td>\n",
       "      <td>0.0</td>\n",
       "      <td>0.0</td>\n",
       "      <td>0.0</td>\n",
       "      <td>0.0</td>\n",
       "    </tr>\n",
       "    <tr>\n",
       "      <th>56418</th>\n",
       "      <td>0.0</td>\n",
       "      <td>0.0</td>\n",
       "      <td>0.0</td>\n",
       "      <td>0.0</td>\n",
       "      <td>0.0</td>\n",
       "      <td>0.0</td>\n",
       "      <td>1.0</td>\n",
       "      <td>0.0</td>\n",
       "      <td>0.0</td>\n",
       "      <td>0.0</td>\n",
       "      <td>...</td>\n",
       "      <td>0.0</td>\n",
       "      <td>0.0</td>\n",
       "      <td>0.0</td>\n",
       "      <td>0.0</td>\n",
       "      <td>0.0</td>\n",
       "      <td>0.0</td>\n",
       "      <td>0.0</td>\n",
       "      <td>0.0</td>\n",
       "      <td>0.0</td>\n",
       "      <td>0.0</td>\n",
       "    </tr>\n",
       "    <tr>\n",
       "      <th>56419</th>\n",
       "      <td>0.0</td>\n",
       "      <td>0.0</td>\n",
       "      <td>0.0</td>\n",
       "      <td>0.0</td>\n",
       "      <td>0.0</td>\n",
       "      <td>0.0</td>\n",
       "      <td>1.0</td>\n",
       "      <td>0.0</td>\n",
       "      <td>0.0</td>\n",
       "      <td>0.0</td>\n",
       "      <td>...</td>\n",
       "      <td>0.0</td>\n",
       "      <td>0.0</td>\n",
       "      <td>0.0</td>\n",
       "      <td>0.0</td>\n",
       "      <td>0.0</td>\n",
       "      <td>0.0</td>\n",
       "      <td>0.0</td>\n",
       "      <td>0.0</td>\n",
       "      <td>0.0</td>\n",
       "      <td>0.0</td>\n",
       "    </tr>\n",
       "  </tbody>\n",
       "</table>\n",
       "<p>56420 rows × 26 columns</p>\n",
       "</div>"
      ],
      "text/plain": [
       "       AliceSprings  Brisbane  Cairns  Canberra  Cobar  CoffsHarbour  Darwin  \\\n",
       "0               0.0       0.0     0.0       0.0    1.0           0.0     0.0   \n",
       "1               0.0       0.0     0.0       0.0    1.0           0.0     0.0   \n",
       "2               0.0       0.0     0.0       0.0    1.0           0.0     0.0   \n",
       "3               0.0       0.0     0.0       0.0    1.0           0.0     0.0   \n",
       "4               0.0       0.0     0.0       0.0    1.0           0.0     0.0   \n",
       "...             ...       ...     ...       ...    ...           ...     ...   \n",
       "56415           0.0       0.0     0.0       0.0    0.0           0.0     1.0   \n",
       "56416           0.0       0.0     0.0       0.0    0.0           0.0     1.0   \n",
       "56417           0.0       0.0     0.0       0.0    0.0           0.0     1.0   \n",
       "56418           0.0       0.0     0.0       0.0    0.0           0.0     1.0   \n",
       "56419           0.0       0.0     0.0       0.0    0.0           0.0     1.0   \n",
       "\n",
       "       Hobart  Melbourne  MelbourneAirport  ...  PerthAirport  Portland  Sale  \\\n",
       "0         0.0        0.0               0.0  ...           0.0       0.0   0.0   \n",
       "1         0.0        0.0               0.0  ...           0.0       0.0   0.0   \n",
       "2         0.0        0.0               0.0  ...           0.0       0.0   0.0   \n",
       "3         0.0        0.0               0.0  ...           0.0       0.0   0.0   \n",
       "4         0.0        0.0               0.0  ...           0.0       0.0   0.0   \n",
       "...       ...        ...               ...  ...           ...       ...   ...   \n",
       "56415     0.0        0.0               0.0  ...           0.0       0.0   0.0   \n",
       "56416     0.0        0.0               0.0  ...           0.0       0.0   0.0   \n",
       "56417     0.0        0.0               0.0  ...           0.0       0.0   0.0   \n",
       "56418     0.0        0.0               0.0  ...           0.0       0.0   0.0   \n",
       "56419     0.0        0.0               0.0  ...           0.0       0.0   0.0   \n",
       "\n",
       "       Sydney  SydneyAirport  Townsville  WaggaWagga  Watsonia  Williamtown  \\\n",
       "0         0.0            0.0         0.0         0.0       0.0          0.0   \n",
       "1         0.0            0.0         0.0         0.0       0.0          0.0   \n",
       "2         0.0            0.0         0.0         0.0       0.0          0.0   \n",
       "3         0.0            0.0         0.0         0.0       0.0          0.0   \n",
       "4         0.0            0.0         0.0         0.0       0.0          0.0   \n",
       "...       ...            ...         ...         ...       ...          ...   \n",
       "56415     0.0            0.0         0.0         0.0       0.0          0.0   \n",
       "56416     0.0            0.0         0.0         0.0       0.0          0.0   \n",
       "56417     0.0            0.0         0.0         0.0       0.0          0.0   \n",
       "56418     0.0            0.0         0.0         0.0       0.0          0.0   \n",
       "56419     0.0            0.0         0.0         0.0       0.0          0.0   \n",
       "\n",
       "       Woomera  \n",
       "0          0.0  \n",
       "1          0.0  \n",
       "2          0.0  \n",
       "3          0.0  \n",
       "4          0.0  \n",
       "...        ...  \n",
       "56415      0.0  \n",
       "56416      0.0  \n",
       "56417      0.0  \n",
       "56418      0.0  \n",
       "56419      0.0  \n",
       "\n",
       "[56420 rows x 26 columns]"
      ]
     },
     "execution_count": 85,
     "metadata": {},
     "output_type": "execute_result"
    }
   ],
   "source": [
    "temp=pd.DataFrame(transformed_Loacation,\n",
    "                           columns=['AliceSprings', 'Brisbane', 'Cairns', 'Canberra', 'Cobar',\n",
    "       'CoffsHarbour', 'Darwin', 'Hobart', 'Melbourne',\n",
    "       'MelbourneAirport', 'Mildura', 'Moree', 'MountGambier',\n",
    "       'NorfolkIsland', 'Nuriootpa', 'Perth', 'PerthAirport', 'Portland',\n",
    "       'Sale', 'Sydney', 'SydneyAirport', 'Townsville', 'WaggaWagga',\n",
    "       'Watsonia', 'Williamtown', 'Woomera'])\n",
    "temp"
   ]
  },
  {
   "cell_type": "code",
   "execution_count": 86,
   "metadata": {},
   "outputs": [],
   "source": [
    "data_copy2=data_copy.reset_index()"
   ]
  },
  {
   "cell_type": "code",
   "execution_count": 87,
   "metadata": {},
   "outputs": [],
   "source": [
    "data_copy2=data_copy2.join(temp)"
   ]
  },
  {
   "cell_type": "code",
   "execution_count": 88,
   "metadata": {},
   "outputs": [
    {
     "data": {
      "text/html": [
       "<div>\n",
       "<style scoped>\n",
       "    .dataframe tbody tr th:only-of-type {\n",
       "        vertical-align: middle;\n",
       "    }\n",
       "\n",
       "    .dataframe tbody tr th {\n",
       "        vertical-align: top;\n",
       "    }\n",
       "\n",
       "    .dataframe thead th {\n",
       "        text-align: right;\n",
       "    }\n",
       "</style>\n",
       "<table border=\"1\" class=\"dataframe\">\n",
       "  <thead>\n",
       "    <tr style=\"text-align: right;\">\n",
       "      <th></th>\n",
       "      <th>index</th>\n",
       "      <th>Location</th>\n",
       "      <th>MinTemp</th>\n",
       "      <th>MaxTemp</th>\n",
       "      <th>Rainfall</th>\n",
       "      <th>Evaporation</th>\n",
       "      <th>Sunshine</th>\n",
       "      <th>WindGustSpeed</th>\n",
       "      <th>WindSpeed9am</th>\n",
       "      <th>WindSpeed3pm</th>\n",
       "      <th>...</th>\n",
       "      <th>PerthAirport</th>\n",
       "      <th>Portland</th>\n",
       "      <th>Sale</th>\n",
       "      <th>Sydney</th>\n",
       "      <th>SydneyAirport</th>\n",
       "      <th>Townsville</th>\n",
       "      <th>WaggaWagga</th>\n",
       "      <th>Watsonia</th>\n",
       "      <th>Williamtown</th>\n",
       "      <th>Woomera</th>\n",
       "    </tr>\n",
       "  </thead>\n",
       "  <tbody>\n",
       "    <tr>\n",
       "      <th>0</th>\n",
       "      <td>6049</td>\n",
       "      <td>Cobar</td>\n",
       "      <td>17.9</td>\n",
       "      <td>35.2</td>\n",
       "      <td>0.0</td>\n",
       "      <td>12.0</td>\n",
       "      <td>12.3</td>\n",
       "      <td>48.0</td>\n",
       "      <td>6.0</td>\n",
       "      <td>20.0</td>\n",
       "      <td>...</td>\n",
       "      <td>0.0</td>\n",
       "      <td>0.0</td>\n",
       "      <td>0.0</td>\n",
       "      <td>0.0</td>\n",
       "      <td>0.0</td>\n",
       "      <td>0.0</td>\n",
       "      <td>0.0</td>\n",
       "      <td>0.0</td>\n",
       "      <td>0.0</td>\n",
       "      <td>0.0</td>\n",
       "    </tr>\n",
       "    <tr>\n",
       "      <th>1</th>\n",
       "      <td>6050</td>\n",
       "      <td>Cobar</td>\n",
       "      <td>18.4</td>\n",
       "      <td>28.9</td>\n",
       "      <td>0.0</td>\n",
       "      <td>14.8</td>\n",
       "      <td>13.0</td>\n",
       "      <td>37.0</td>\n",
       "      <td>19.0</td>\n",
       "      <td>19.0</td>\n",
       "      <td>...</td>\n",
       "      <td>0.0</td>\n",
       "      <td>0.0</td>\n",
       "      <td>0.0</td>\n",
       "      <td>0.0</td>\n",
       "      <td>0.0</td>\n",
       "      <td>0.0</td>\n",
       "      <td>0.0</td>\n",
       "      <td>0.0</td>\n",
       "      <td>0.0</td>\n",
       "      <td>0.0</td>\n",
       "    </tr>\n",
       "    <tr>\n",
       "      <th>2</th>\n",
       "      <td>6052</td>\n",
       "      <td>Cobar</td>\n",
       "      <td>19.4</td>\n",
       "      <td>37.6</td>\n",
       "      <td>0.0</td>\n",
       "      <td>10.8</td>\n",
       "      <td>10.6</td>\n",
       "      <td>46.0</td>\n",
       "      <td>30.0</td>\n",
       "      <td>15.0</td>\n",
       "      <td>...</td>\n",
       "      <td>0.0</td>\n",
       "      <td>0.0</td>\n",
       "      <td>0.0</td>\n",
       "      <td>0.0</td>\n",
       "      <td>0.0</td>\n",
       "      <td>0.0</td>\n",
       "      <td>0.0</td>\n",
       "      <td>0.0</td>\n",
       "      <td>0.0</td>\n",
       "      <td>0.0</td>\n",
       "    </tr>\n",
       "    <tr>\n",
       "      <th>3</th>\n",
       "      <td>6053</td>\n",
       "      <td>Cobar</td>\n",
       "      <td>21.9</td>\n",
       "      <td>38.4</td>\n",
       "      <td>0.0</td>\n",
       "      <td>11.4</td>\n",
       "      <td>12.2</td>\n",
       "      <td>31.0</td>\n",
       "      <td>6.0</td>\n",
       "      <td>6.0</td>\n",
       "      <td>...</td>\n",
       "      <td>0.0</td>\n",
       "      <td>0.0</td>\n",
       "      <td>0.0</td>\n",
       "      <td>0.0</td>\n",
       "      <td>0.0</td>\n",
       "      <td>0.0</td>\n",
       "      <td>0.0</td>\n",
       "      <td>0.0</td>\n",
       "      <td>0.0</td>\n",
       "      <td>0.0</td>\n",
       "    </tr>\n",
       "  </tbody>\n",
       "</table>\n",
       "<p>4 rows × 61 columns</p>\n",
       "</div>"
      ],
      "text/plain": [
       "   index Location  MinTemp  MaxTemp  Rainfall  Evaporation  Sunshine  \\\n",
       "0   6049    Cobar     17.9     35.2       0.0         12.0      12.3   \n",
       "1   6050    Cobar     18.4     28.9       0.0         14.8      13.0   \n",
       "2   6052    Cobar     19.4     37.6       0.0         10.8      10.6   \n",
       "3   6053    Cobar     21.9     38.4       0.0         11.4      12.2   \n",
       "\n",
       "   WindGustSpeed  WindSpeed9am  WindSpeed3pm  ...  PerthAirport  Portland  \\\n",
       "0           48.0           6.0          20.0  ...           0.0       0.0   \n",
       "1           37.0          19.0          19.0  ...           0.0       0.0   \n",
       "2           46.0          30.0          15.0  ...           0.0       0.0   \n",
       "3           31.0           6.0           6.0  ...           0.0       0.0   \n",
       "\n",
       "   Sale  Sydney  SydneyAirport  Townsville  WaggaWagga  Watsonia  Williamtown  \\\n",
       "0   0.0     0.0            0.0         0.0         0.0       0.0          0.0   \n",
       "1   0.0     0.0            0.0         0.0         0.0       0.0          0.0   \n",
       "2   0.0     0.0            0.0         0.0         0.0       0.0          0.0   \n",
       "3   0.0     0.0            0.0         0.0         0.0       0.0          0.0   \n",
       "\n",
       "   Woomera  \n",
       "0      0.0  \n",
       "1      0.0  \n",
       "2      0.0  \n",
       "3      0.0  \n",
       "\n",
       "[4 rows x 61 columns]"
      ]
     },
     "execution_count": 88,
     "metadata": {},
     "output_type": "execute_result"
    }
   ],
   "source": [
    "data_copy2.head(4)"
   ]
  },
  {
   "cell_type": "code",
   "execution_count": 89,
   "metadata": {},
   "outputs": [],
   "source": [
    "data_copy2 = data_copy2.drop('Location', axis = 1)"
   ]
  },
  {
   "cell_type": "code",
   "execution_count": 90,
   "metadata": {},
   "outputs": [
    {
     "name": "stdout",
     "output_type": "stream",
     "text": [
      "<class 'pandas.core.frame.DataFrame'>\n",
      "RangeIndex: 56420 entries, 0 to 56419\n",
      "Data columns (total 60 columns):\n",
      " #   Column            Non-Null Count  Dtype  \n",
      "---  ------            --------------  -----  \n",
      " 0   index             56420 non-null  int64  \n",
      " 1   MinTemp           56420 non-null  float64\n",
      " 2   MaxTemp           56420 non-null  float64\n",
      " 3   Rainfall          56420 non-null  float64\n",
      " 4   Evaporation       56420 non-null  float64\n",
      " 5   Sunshine          56420 non-null  float64\n",
      " 6   WindGustSpeed     56420 non-null  float64\n",
      " 7   WindSpeed9am      56420 non-null  float64\n",
      " 8   WindSpeed3pm      56420 non-null  float64\n",
      " 9   Humidity9am       56420 non-null  float64\n",
      " 10  Humidity3pm       56420 non-null  float64\n",
      " 11  Pressure9am       56420 non-null  float64\n",
      " 12  Pressure3pm       56420 non-null  float64\n",
      " 13  Cloud9am          56420 non-null  float64\n",
      " 14  Cloud3pm          56420 non-null  float64\n",
      " 15  Temp9am           56420 non-null  float64\n",
      " 16  Temp3pm           56420 non-null  float64\n",
      " 17  RainToday         56420 non-null  int64  \n",
      " 18  RainTomorrow      56420 non-null  int64  \n",
      " 19  year              56420 non-null  int64  \n",
      " 20  month             56420 non-null  int64  \n",
      " 21  day               56420 non-null  int64  \n",
      " 22  WindGustDir_S     56420 non-null  int64  \n",
      " 23  WindGustDir_W     56420 non-null  int64  \n",
      " 24  WindGustDir_E     56420 non-null  int64  \n",
      " 25  WindGustDir_N     56420 non-null  int64  \n",
      " 26  WindDir9am_S      56420 non-null  int64  \n",
      " 27  WindDir9am_W      56420 non-null  int64  \n",
      " 28  WindDir9am_E      56420 non-null  int64  \n",
      " 29  WindDir9am_N      56420 non-null  int64  \n",
      " 30  WindDir3pm_S      56420 non-null  int64  \n",
      " 31  WindDir3pm_W      56420 non-null  int64  \n",
      " 32  WindDir3pm_E      56420 non-null  int64  \n",
      " 33  WindDir3pm_N      56420 non-null  int64  \n",
      " 34  AliceSprings      56420 non-null  float64\n",
      " 35  Brisbane          56420 non-null  float64\n",
      " 36  Cairns            56420 non-null  float64\n",
      " 37  Canberra          56420 non-null  float64\n",
      " 38  Cobar             56420 non-null  float64\n",
      " 39  CoffsHarbour      56420 non-null  float64\n",
      " 40  Darwin            56420 non-null  float64\n",
      " 41  Hobart            56420 non-null  float64\n",
      " 42  Melbourne         56420 non-null  float64\n",
      " 43  MelbourneAirport  56420 non-null  float64\n",
      " 44  Mildura           56420 non-null  float64\n",
      " 45  Moree             56420 non-null  float64\n",
      " 46  MountGambier      56420 non-null  float64\n",
      " 47  NorfolkIsland     56420 non-null  float64\n",
      " 48  Nuriootpa         56420 non-null  float64\n",
      " 49  Perth             56420 non-null  float64\n",
      " 50  PerthAirport      56420 non-null  float64\n",
      " 51  Portland          56420 non-null  float64\n",
      " 52  Sale              56420 non-null  float64\n",
      " 53  Sydney            56420 non-null  float64\n",
      " 54  SydneyAirport     56420 non-null  float64\n",
      " 55  Townsville        56420 non-null  float64\n",
      " 56  WaggaWagga        56420 non-null  float64\n",
      " 57  Watsonia          56420 non-null  float64\n",
      " 58  Williamtown       56420 non-null  float64\n",
      " 59  Woomera           56420 non-null  float64\n",
      "dtypes: float64(42), int64(18)\n",
      "memory usage: 25.8 MB\n"
     ]
    }
   ],
   "source": [
    "data_copy2.info()"
   ]
  },
  {
   "cell_type": "code",
   "execution_count": 91,
   "metadata": {},
   "outputs": [
    {
     "data": {
      "text/plain": [
       "(56420, 60)"
      ]
     },
     "execution_count": 91,
     "metadata": {},
     "output_type": "execute_result"
    }
   ],
   "source": [
    "data_copy2.shape"
   ]
  },
  {
   "cell_type": "code",
   "execution_count": 92,
   "metadata": {},
   "outputs": [
    {
     "data": {
      "text/plain": [
       "0    43993\n",
       "1    12427\n",
       "Name: RainTomorrow, dtype: int64"
      ]
     },
     "execution_count": 92,
     "metadata": {},
     "output_type": "execute_result"
    }
   ],
   "source": [
    "data_copy2.RainTomorrow.value_counts()"
   ]
  },
  {
   "cell_type": "code",
   "execution_count": 93,
   "metadata": {},
   "outputs": [
    {
     "data": {
      "text/plain": [
       "(24854, 60)"
      ]
     },
     "execution_count": 93,
     "metadata": {},
     "output_type": "execute_result"
    }
   ],
   "source": [
    "data_copy3 = data_copy2[data_copy2['RainTomorrow']==0]\n",
    "data_copy4 = data_copy2[data_copy2['RainTomorrow']==1]\n",
    "data_copy3 = data_copy3.sample(data_copy4.shape[0])\n",
    "AllData = data_copy3.append(data_copy4)\n",
    "AllData.shape"
   ]
  },
  {
   "cell_type": "code",
   "execution_count": 94,
   "metadata": {},
   "outputs": [
    {
     "data": {
      "text/plain": [
       "1    12427\n",
       "0    12427\n",
       "Name: RainTomorrow, dtype: int64"
      ]
     },
     "execution_count": 94,
     "metadata": {},
     "output_type": "execute_result"
    }
   ],
   "source": [
    "AllData.RainTomorrow.value_counts()"
   ]
  },
  {
   "cell_type": "code",
   "execution_count": 95,
   "metadata": {},
   "outputs": [],
   "source": [
    "AllData = AllData.drop('index', axis = 1)\n",
    "RainTomorrow = AllData['RainTomorrow']\n",
    "features = AllData.drop('RainTomorrow', axis = 1)\n",
    "\n",
    "X = features.values\n",
    "y = RainTomorrow.values"
   ]
  },
  {
   "cell_type": "code",
   "execution_count": 96,
   "metadata": {},
   "outputs": [],
   "source": [
    "def print_cm(cm, labels=['Not RainTomorrow', 'RainTomorrow'], hide_zeroes=False, hide_diagonal=False, hide_threshold=None):\n",
    "    \"\"\"pretty print for confusion matrixes\"\"\"\n",
    "    columnwidth = max([len(x) for x in labels] + [5])  # 5 is value length\n",
    "    empty_cell = \" \" * columnwidth\n",
    "    print(\"    \" + empty_cell, end=\" \")\n",
    "    for label in labels:\n",
    "        print(\"%{0}s\".format(columnwidth) % label, end=\" \")\n",
    "    print()\n",
    "    for i, label1 in enumerate(labels):\n",
    "        print(\"    %{0}s\".format(columnwidth) % label1, end=\" \")\n",
    "        for j in range(len(labels)):\n",
    "            cell = \"%{0}.1f\".format(columnwidth) % cm[i, j]\n",
    "            if hide_zeroes:\n",
    "                cell = cell if float(cm[i, j]) != 0 else empty_cell\n",
    "            if hide_diagonal:\n",
    "                cell = cell if i != j else empty_cell\n",
    "            if hide_threshold:\n",
    "                cell = cell if cm[i, j] > hide_threshold else empty_cell\n",
    "            print(cell, end=\" \")\n",
    "        print()"
   ]
  },
  {
   "cell_type": "code",
   "execution_count": 97,
   "metadata": {},
   "outputs": [],
   "source": [
    "X_train, X_test, y_train, y_test = train_test_split(X, y, random_state=0, test_size = 0.35)"
   ]
  },
  {
   "cell_type": "code",
   "execution_count": 98,
   "metadata": {},
   "outputs": [],
   "source": [
    "target_names = ['Not RainTomorrow', 'RainTomorrow']"
   ]
  },
  {
   "cell_type": "code",
   "execution_count": 112,
   "metadata": {},
   "outputs": [
    {
     "name": "stdout",
     "output_type": "stream",
     "text": [
      "DummyClassifier with stratified strategy\n",
      "                     Not RainTomorrow     RainTomorrow \n",
      "    Not RainTomorrow           2169.0           2196.0 \n",
      "        RainTomorrow           2166.0           2168.0 \n"
     ]
    }
   ],
   "source": [
    "dummy_majority = DummyClassifier(strategy='stratified').fit(X_train, y_train)\n",
    "y_majority_predicted = dummy_majority.predict(X_test)\n",
    "confusion_dummy_majority = confusion_matrix(y_test, y_majority_predicted)\n",
    "print(\"DummyClassifier with stratified strategy\")\n",
    "print_cm(confusion_dummy_majority, ['Not RainTomorrow', 'RainTomorrow'])"
   ]
  },
  {
   "cell_type": "code",
   "execution_count": 113,
   "metadata": {},
   "outputs": [
    {
     "name": "stdout",
     "output_type": "stream",
     "text": [
      "DummyClassifier with stratified strategy\n",
      "                  precision    recall  f1-score   support\n",
      "\n",
      "Not RainTomorrow       0.50      0.50      0.50      4365\n",
      "    RainTomorrow       0.50      0.50      0.50      4334\n",
      "\n",
      "        accuracy                           0.50      8699\n",
      "       macro avg       0.50      0.50      0.50      8699\n",
      "    weighted avg       0.50      0.50      0.50      8699\n",
      "\n"
     ]
    }
   ],
   "source": [
    "print(\"DummyClassifier with stratified strategy\")\n",
    "print(classification_report(y_test, y_majority_predicted, target_names=target_names))"
   ]
  },
  {
   "cell_type": "code",
   "execution_count": 101,
   "metadata": {},
   "outputs": [
    {
     "name": "stdout",
     "output_type": "stream",
     "text": [
      "KNeighborsClassifier\n",
      "                     Not RainTomorrow     RainTomorrow \n",
      "    Not RainTomorrow           3663.0            702.0 \n",
      "        RainTomorrow           1159.0           3175.0 \n"
     ]
    }
   ],
   "source": [
    "knn = KNeighborsClassifier(n_neighbors=200).fit(X_train, y_train)\n",
    "knn_predicted = knn.predict(X_test)\n",
    "confusion_knn = confusion_matrix(y_test, knn_predicted)\n",
    "print(\"KNeighborsClassifier\")\n",
    "print_cm(confusion_knn, ['Not RainTomorrow', 'RainTomorrow'])"
   ]
  },
  {
   "cell_type": "code",
   "execution_count": 102,
   "metadata": {},
   "outputs": [
    {
     "name": "stdout",
     "output_type": "stream",
     "text": [
      "KNeighborsClassifier\n",
      "                  precision    recall  f1-score   support\n",
      "\n",
      "Not RainTomorrow       0.76      0.84      0.80      4365\n",
      "    RainTomorrow       0.82      0.73      0.77      4334\n",
      "\n",
      "        accuracy                           0.79      8699\n",
      "       macro avg       0.79      0.79      0.79      8699\n",
      "    weighted avg       0.79      0.79      0.79      8699\n",
      "\n"
     ]
    }
   ],
   "source": [
    "print(\"KNeighborsClassifier\")\n",
    "print(classification_report(y_test, knn_predicted, target_names=target_names))"
   ]
  },
  {
   "cell_type": "code",
   "execution_count": 103,
   "metadata": {},
   "outputs": [
    {
     "name": "stdout",
     "output_type": "stream",
     "text": [
      "LogisticRegression\n",
      "                     Not RainTomorrow     RainTomorrow \n",
      "    Not RainTomorrow           3520.0            845.0 \n",
      "        RainTomorrow            951.0           3383.0 \n"
     ]
    },
    {
     "name": "stderr",
     "output_type": "stream",
     "text": [
      "C:\\ProgramData\\Anaconda3\\lib\\site-packages\\sklearn\\linear_model\\_logistic.py:940: ConvergenceWarning: lbfgs failed to converge (status=1):\n",
      "STOP: TOTAL NO. of ITERATIONS REACHED LIMIT.\n",
      "\n",
      "Increase the number of iterations (max_iter) or scale the data as shown in:\n",
      "    https://scikit-learn.org/stable/modules/preprocessing.html\n",
      "Please also refer to the documentation for alternative solver options:\n",
      "    https://scikit-learn.org/stable/modules/linear_model.html#logistic-regression\n",
      "  extra_warning_msg=_LOGISTIC_SOLVER_CONVERGENCE_MSG)\n"
     ]
    }
   ],
   "source": [
    "lr = LogisticRegression(max_iter=300).fit(X_train, y_train)\n",
    "lr_predicted = lr.predict(X_test)\n",
    "confusion_lr = confusion_matrix(y_test, lr_predicted)\n",
    "print(\"LogisticRegression\")\n",
    "print_cm(confusion_lr, ['Not RainTomorrow', 'RainTomorrow'])"
   ]
  },
  {
   "cell_type": "code",
   "execution_count": 104,
   "metadata": {
    "scrolled": true
   },
   "outputs": [
    {
     "name": "stdout",
     "output_type": "stream",
     "text": [
      "LogisticRegression\n",
      "                  precision    recall  f1-score   support\n",
      "\n",
      "Not RainTomorrow       0.79      0.81      0.80      4365\n",
      "    RainTomorrow       0.80      0.78      0.79      4334\n",
      "\n",
      "        accuracy                           0.79      8699\n",
      "       macro avg       0.79      0.79      0.79      8699\n",
      "    weighted avg       0.79      0.79      0.79      8699\n",
      "\n"
     ]
    }
   ],
   "source": [
    "print(\"LogisticRegression\")\n",
    "print(classification_report(y_test, lr_predicted, target_names=target_names))"
   ]
  },
  {
   "cell_type": "code",
   "execution_count": 105,
   "metadata": {},
   "outputs": [
    {
     "name": "stdout",
     "output_type": "stream",
     "text": [
      "DecisionTreeClassifier\n",
      "                     Not RainTomorrow     RainTomorrow \n",
      "    Not RainTomorrow           3320.0           1045.0 \n",
      "        RainTomorrow            962.0           3372.0 \n"
     ]
    }
   ],
   "source": [
    "dt = DecisionTreeClassifier(max_depth=10).fit(X_train, y_train)\n",
    "tree_predicted = dt.predict(X_test)\n",
    "confusion_dt = confusion_matrix(y_test, tree_predicted)\n",
    "print(\"DecisionTreeClassifier\")\n",
    "print_cm(confusion_dt, ['Not RainTomorrow', 'RainTomorrow'])"
   ]
  },
  {
   "cell_type": "code",
   "execution_count": 106,
   "metadata": {},
   "outputs": [
    {
     "name": "stdout",
     "output_type": "stream",
     "text": [
      "DecisionTreeClassifier\n",
      "                  precision    recall  f1-score   support\n",
      "\n",
      "Not RainTomorrow       0.78      0.76      0.77      4365\n",
      "    RainTomorrow       0.76      0.78      0.77      4334\n",
      "\n",
      "        accuracy                           0.77      8699\n",
      "       macro avg       0.77      0.77      0.77      8699\n",
      "    weighted avg       0.77      0.77      0.77      8699\n",
      "\n"
     ]
    }
   ],
   "source": [
    "print(\"DecisionTreeClassifier\")\n",
    "print(classification_report(y_test, tree_predicted, target_names=target_names))"
   ]
  },
  {
   "cell_type": "code",
   "execution_count": 107,
   "metadata": {},
   "outputs": [
    {
     "name": "stdout",
     "output_type": "stream",
     "text": [
      "SVM\n",
      "                     Not RainTomorrow     RainTomorrow \n",
      "    Not RainTomorrow           3395.0            970.0 \n",
      "        RainTomorrow           1006.0           3328.0 \n"
     ]
    }
   ],
   "source": [
    "svm = SVC().fit(X_train, y_train)\n",
    "svm_predicted_mc = svm.predict(X_test)\n",
    "confusion_mc = confusion_matrix(y_test, svm_predicted_mc)\n",
    "print(\"SVM\")\n",
    "print_cm(confusion_mc, ['Not RainTomorrow', 'RainTomorrow'])"
   ]
  },
  {
   "cell_type": "code",
   "execution_count": 108,
   "metadata": {},
   "outputs": [
    {
     "name": "stdout",
     "output_type": "stream",
     "text": [
      "SVM\n",
      "                  precision    recall  f1-score   support\n",
      "\n",
      "Not RainTomorrow       0.77      0.78      0.77      4365\n",
      "    RainTomorrow       0.77      0.77      0.77      4334\n",
      "\n",
      "        accuracy                           0.77      8699\n",
      "       macro avg       0.77      0.77      0.77      8699\n",
      "    weighted avg       0.77      0.77      0.77      8699\n",
      "\n"
     ]
    }
   ],
   "source": [
    "print(\"SVM\")\n",
    "print(classification_report(y_test, svm_predicted_mc, target_names=target_names))"
   ]
  },
  {
   "cell_type": "code",
   "execution_count": 109,
   "metadata": {},
   "outputs": [
    {
     "name": "stdout",
     "output_type": "stream",
     "text": [
      "RandomForestClassifier\n",
      "                     Not RainTomorrow     RainTomorrow \n",
      "    Not RainTomorrow           3374.0            991.0 \n",
      "        RainTomorrow            818.0           3516.0 \n"
     ]
    }
   ],
   "source": [
    "rnd_clf = RandomForestClassifier(n_estimators=500, max_leaf_nodes=32, n_jobs=-1, random_state=42)\n",
    "rnd_clf.fit(X_train, y_train)\n",
    "y_pred_rf = rnd_clf.predict(X_test)\n",
    "confusion_mc = confusion_matrix(y_test, y_pred_rf)\n",
    "print(\"RandomForestClassifier\")\n",
    "print_cm(confusion_mc, ['Not RainTomorrow', 'RainTomorrow'])"
   ]
  },
  {
   "cell_type": "code",
   "execution_count": 110,
   "metadata": {
    "scrolled": true
   },
   "outputs": [
    {
     "name": "stdout",
     "output_type": "stream",
     "text": [
      "RandomForestClassifier\n",
      "                  precision    recall  f1-score   support\n",
      "\n",
      "Not RainTomorrow       0.80      0.77      0.79      4365\n",
      "    RainTomorrow       0.78      0.81      0.80      4334\n",
      "\n",
      "        accuracy                           0.79      8699\n",
      "       macro avg       0.79      0.79      0.79      8699\n",
      "    weighted avg       0.79      0.79      0.79      8699\n",
      "\n"
     ]
    }
   ],
   "source": [
    "print(\"RandomForestClassifier\")\n",
    "print(classification_report(y_test, y_pred_rf, target_names=target_names))"
   ]
  },
  {
   "cell_type": "code",
   "execution_count": 1,
   "metadata": {},
   "outputs": [],
   "source": [
    "# print(dt.feature_importances_)\n",
    "# n_features = X_train.shape[1]\n",
    "# print(n_features)\n",
    "# plt.barh(range(n_features),dt.feature_importances_, align='center', height=1)\n",
    "# plt.yticks(np.arange(n_features), AllData.columns[1:])\n",
    "# plt.xlabel('Feature Importance')\n",
    "# plt.ylabel('Feature')\n",
    "# plt.show()"
   ]
  },
  {
   "cell_type": "markdown",
   "metadata": {},
   "source": [
    "# pipeline"
   ]
  },
  {
   "cell_type": "markdown",
   "metadata": {},
   "source": [
    "#### LogisticRegression"
   ]
  },
  {
   "cell_type": "code",
   "execution_count": 133,
   "metadata": {},
   "outputs": [],
   "source": [
    "pip = make_pipeline(PCA(n_components=45),MinMaxScaler(),LogisticRegression(max_iter=500))\n",
    "\n",
    "pip.fit(X_train, y_train)\n",
    "\n",
    "pip_pre = pip.predict(X_test)"
   ]
  },
  {
   "cell_type": "code",
   "execution_count": 134,
   "metadata": {},
   "outputs": [
    {
     "name": "stdout",
     "output_type": "stream",
     "text": [
      "Cross-validation (accuracy) [0.8004827  0.79243765 0.80933226 0.8149638  0.80691874 0.80193237\n",
      " 0.7826087 ]\n",
      "Cross-validation (precision) [0.80560132 0.80612245 0.82735043 0.81219904 0.8121911  0.79904306\n",
      " 0.79292929]\n",
      "Cross-validation (recall) [0.78998384 0.76575121 0.7819063  0.8174475  0.79516129 0.80775444\n",
      " 0.76252019]\n",
      "Cross-validation (AUC) [0.90000414 0.8736641  0.88822957 0.89684562 0.89043132 0.88588491\n",
      " 0.87314755]\n"
     ]
    }
   ],
   "source": [
    "scores = cross_val_score(pip, X_test, y_test, cv=7)\n",
    "print('Cross-validation (accuracy)', scores)\n",
    "\n",
    "scores = cross_val_score(pip, X_test, y_test,cv=7, scoring = 'precision')\n",
    "print('Cross-validation (precision)', scores)\n",
    "\n",
    "scores = cross_val_score(pip, X_test, y_test,cv=7, scoring = 'recall')\n",
    "print('Cross-validation (recall)', scores)\n",
    "\n",
    "scores = cross_val_score(pip, X_test, y_test, cv=7, scoring = 'roc_auc')\n",
    "print('Cross-validation (AUC)', scores)"
   ]
  },
  {
   "cell_type": "markdown",
   "metadata": {},
   "source": [
    "#### SVM"
   ]
  },
  {
   "cell_type": "code",
   "execution_count": 135,
   "metadata": {},
   "outputs": [],
   "source": [
    "pip1 = make_pipeline(MinMaxScaler(),SVC(C=1e9,gamma=1e-07)) # PCA()×\n",
    "\n",
    "pip1.fit(X_train, y_train)\n",
    "\n",
    "pip_pre = pip1.predict(X_test)"
   ]
  },
  {
   "cell_type": "code",
   "execution_count": 136,
   "metadata": {},
   "outputs": [
    {
     "name": "stdout",
     "output_type": "stream",
     "text": [
      "Cross-validation (accuracy) [0.79126437 0.81011494 0.79908046 0.79392824]\n",
      "Cross-validation (precision) [0.79310345 0.81443299 0.79981464 0.78942571]\n",
      "Cross-validation (recall) [0.78578024 0.80166052 0.79612546 0.79963066]\n",
      "Cross-validation (AUC) [0.88303502 0.88943672 0.8799495  0.87780827]\n"
     ]
    }
   ],
   "source": [
    "scores = cross_val_score(pip1, X_test, y_test, cv=4) # CV = [3,5,7]×\n",
    "print('Cross-validation (accuracy)', scores)\n",
    "\n",
    "scores = cross_val_score(pip1, X_test, y_test,cv=4, scoring = 'precision') # CV = [3,5,7]×\n",
    "print('Cross-validation (precision)', scores)\n",
    "\n",
    "scores = cross_val_score(pip1, X_test, y_test,cv=4, scoring = 'recall') # CV = [3,5,7]×\n",
    "print('Cross-validation (recall)', scores)\n",
    "\n",
    "scores = cross_val_score(pip1, X_test, y_test, cv=4, scoring = 'roc_auc') # CV = [3,5,7]×\n",
    "print('Cross-validation (AUC)', scores)"
   ]
  },
  {
   "cell_type": "markdown",
   "metadata": {},
   "source": [
    "# GridSearchCV"
   ]
  },
  {
   "cell_type": "code",
   "execution_count": 137,
   "metadata": {},
   "outputs": [],
   "source": [
    "param_grid = {'pca__svd_solver': ['auto', 'full', 'arpack', 'randomized'],\n",
    "              'logisticregression__C': [0.01, 0.1, 1,10],\n",
    "              'logisticregression__max_iter': [300, 500, 1000,2000],\n",
    "              'logisticregression__solver': ['newton-cg', 'lbfgs', 'liblinear', 'sag', 'saga']\n",
    "             }\n",
    "grid1 = GridSearchCV(pip, param_grid)\n",
    "\n",
    "gri_pre = grid1.fit(X_train,y_train)"
   ]
  },
  {
   "cell_type": "code",
   "execution_count": 138,
   "metadata": {},
   "outputs": [
    {
     "name": "stdout",
     "output_type": "stream",
     "text": [
      "the best parameters {'logisticregression__C': 1, 'logisticregression__max_iter': 2000, 'logisticregression__solver': 'liblinear', 'pca__svd_solver': 'randomized'}\n",
      "best score :  0.807799442896936\n",
      "Test set AUC:  0.8873874545338255\n"
     ]
    }
   ],
   "source": [
    "print(\"the best parameters\",grid1.best_params_)\n",
    "\n",
    "print('best score : ', grid1.best_score_)\n",
    "\n",
    "y_decision_fn_scores_auc = grid1.decision_function(X_test) \n",
    "\n",
    "print('Test set AUC: ', roc_auc_score(y_test, y_decision_fn_scores_auc))"
   ]
  },
  {
   "cell_type": "code",
   "execution_count": 139,
   "metadata": {},
   "outputs": [
    {
     "name": "stdout",
     "output_type": "stream",
     "text": [
      "Best estimator:\n",
      "Pipeline(memory=None,\n",
      "         steps=[('pca',\n",
      "                 PCA(copy=True, iterated_power='auto', n_components=45,\n",
      "                     random_state=None, svd_solver='randomized', tol=0.0,\n",
      "                     whiten=False)),\n",
      "                ('minmaxscaler', MinMaxScaler(copy=True, feature_range=(0, 1))),\n",
      "                ('logisticregression',\n",
      "                 LogisticRegression(C=1, class_weight=None, dual=False,\n",
      "                                    fit_intercept=True, intercept_scaling=1,\n",
      "                                    l1_ratio=None, max_iter=2000,\n",
      "                                    multi_class='auto', n_jobs=None,\n",
      "                                    penalty='l2', random_state=None,\n",
      "                                    solver='liblinear', tol=0.0001, verbose=0,\n",
      "                                    warm_start=False))],\n",
      "         verbose=False)\n"
     ]
    }
   ],
   "source": [
    "print(\"Best estimator:\\n{}\".format(grid1.best_estimator_))"
   ]
  },
  {
   "cell_type": "code",
   "execution_count": 140,
   "metadata": {},
   "outputs": [
    {
     "name": "stdout",
     "output_type": "stream",
     "text": [
      "Cross-validation (accuracy) [0.7954023  0.80517241 0.80689655 0.80632184 0.79355952]\n",
      "Cross-validation (precision) [0.80429594 0.81686747 0.80482204 0.80742459 0.80286738]\n",
      "Cross-validation (recall) [0.77739331 0.78316032 0.80968858 0.80276817 0.77598152]\n",
      "Cross-validation (AUC) [0.88866296 0.88899062 0.88609192 0.88742897 0.88164435]\n"
     ]
    }
   ],
   "source": [
    "scores = cross_val_score(grid1.best_estimator_, X_test, y_test, cv=5)\n",
    "print('Cross-validation (accuracy)', scores)\n",
    "\n",
    "scores = cross_val_score(grid1.best_estimator_, X_test, y_test,cv=5, scoring = 'precision')\n",
    "print('Cross-validation (precision)', scores)\n",
    "\n",
    "scores = cross_val_score(grid1.best_estimator_, X_test, y_test,cv=5, scoring = 'recall')\n",
    "print('Cross-validation (recall)', scores)\n",
    "\n",
    "scores = cross_val_score(grid1.best_estimator_, X_test, y_test, cv=5, scoring = 'roc_auc')\n",
    "print('Cross-validation (AUC)', scores)"
   ]
  },
  {
   "cell_type": "code",
   "execution_count": 141,
   "metadata": {},
   "outputs": [
    {
     "data": {
      "text/plain": [
       "<matplotlib.legend.Legend at 0x23ea92a9388>"
      ]
     },
     "execution_count": 141,
     "metadata": {},
     "output_type": "execute_result"
    },
    {
     "data": {
      "image/png": "[encoded data removed]",
      "text/plain": [
       "<Figure size 1152x432 with 1 Axes>"
      ]
     },
     "metadata": {
      "needs_background": "light"
     },
     "output_type": "display_data"
    }
   ],
   "source": [
    "fig, ax = plt.subplots(1, 1, figsize=(16, 6))\n",
    "fig.subplots_adjust(left=0.0625, right=0.95, wspace=0.1)\n",
    "\n",
    "\n",
    "N, train_lc, val_lc = learning_curve(grid1.best_estimator_,\n",
    "                                     X_train, y_train, cv=3,\n",
    "                                     train_sizes=np.linspace(0.3, 1, 50))\n",
    "\n",
    "ax.plot(N, np.mean(train_lc, 1), color='blue', label='training score')\n",
    "ax.plot(N, np.mean(val_lc, 1), color='red', label='validation score')\n",
    "ax.hlines(np.mean([train_lc[-1], val_lc[-1]]), N[0], N[-1],\n",
    "             color='gray', linestyle='dashed')\n",
    "\n",
    "ax.set_ylim(0, 1)\n",
    "ax.set_xlim(N[0], N[-1])\n",
    "ax.set_xlabel('training size')\n",
    "ax.set_ylabel('score')\n",
    "ax.legend(loc='best')"
   ]
  },
  {
   "cell_type": "code",
   "execution_count": 143,
   "metadata": {},
   "outputs": [
    {
     "name": "stdout",
     "output_type": "stream",
     "text": [
      "X_train.shape: (16155, 58)\n",
      "X_train_selected.shape: (16155, 29)\n"
     ]
    }
   ],
   "source": [
    "select = SelectPercentile(percentile=50)\n",
    "select.fit(X_train, y_train)\n",
    "# transform training set\n",
    "X_train_selected = select.transform(X_train)\n",
    "\n",
    "print(\"X_train.shape: {}\".format(X_train.shape))\n",
    "print(\"X_train_selected.shape: {}\".format(X_train_selected.shape))"
   ]
  },
  {
   "cell_type": "code",
   "execution_count": 144,
   "metadata": {},
   "outputs": [
    {
     "name": "stdout",
     "output_type": "stream",
     "text": [
      "[ True  True  True  True  True  True  True  True  True  True  True  True\n",
      "  True  True False  True  True False False False False  True  True False\n",
      "  True  True  True  True  True False  True  True  True False False False\n",
      " False False False False False False  True False False False False False\n",
      " False  True False False False False False False False  True]\n"
     ]
    },
    {
     "data": {
      "text/plain": [
       "([], <a list of 0 Text yticklabel objects>)"
      ]
     },
     "execution_count": 144,
     "metadata": {},
     "output_type": "execute_result"
    },
    {
     "data": {
      "image/png": "[encoded data removed]",
      "text/plain": [
       "<Figure size 1152x144 with 1 Axes>"
      ]
     },
     "metadata": {
      "needs_background": "light"
     },
     "output_type": "display_data"
    }
   ],
   "source": [
    "mask = select.get_support()\n",
    "print(mask)\n",
    "# visualize the mask. black is True, white is False\n",
    "plt.matshow(mask.reshape(1, -1), cmap='gray_r')\n",
    "plt.xlabel(\"Sample index\")\n",
    "plt.yticks(())"
   ]
  },
  {
   "cell_type": "code",
   "execution_count": 145,
   "metadata": {},
   "outputs": [],
   "source": [
    "# transform test data\n",
    "X_test_selected = select.transform(X_test)"
   ]
  },
  {
   "cell_type": "code",
   "execution_count": 146,
   "metadata": {},
   "outputs": [
    {
     "name": "stdout",
     "output_type": "stream",
     "text": [
      "DummyClassifier with stratified strategy\n",
      "                     Not RainTomorrow     RainTomorrow \n",
      "    Not RainTomorrow           2175.0           2190.0 \n",
      "        RainTomorrow           2146.0           2188.0 \n"
     ]
    }
   ],
   "source": [
    "dummy_majority = DummyClassifier(strategy='stratified').fit(X_train_selected, y_train)\n",
    "y_majority_predicted = dummy_majority.predict(X_test_selected)\n",
    "confusion_dummy_majority = confusion_matrix(y_test, y_majority_predicted)\n",
    "print(\"DummyClassifier with stratified strategy\")\n",
    "print_cm(confusion_dummy_majority, ['Not RainTomorrow', 'RainTomorrow'])"
   ]
  },
  {
   "cell_type": "code",
   "execution_count": 147,
   "metadata": {},
   "outputs": [
    {
     "name": "stdout",
     "output_type": "stream",
     "text": [
      "DummyClassifier with stratified strategy\n",
      "                  precision    recall  f1-score   support\n",
      "\n",
      "Not RainTomorrow       0.50      0.50      0.50      4365\n",
      "    RainTomorrow       0.50      0.50      0.50      4334\n",
      "\n",
      "        accuracy                           0.50      8699\n",
      "       macro avg       0.50      0.50      0.50      8699\n",
      "    weighted avg       0.50      0.50      0.50      8699\n",
      "\n"
     ]
    }
   ],
   "source": [
    "print(\"DummyClassifier with stratified strategy\")\n",
    "print(classification_report(y_test, y_majority_predicted, target_names=target_names))"
   ]
  },
  {
   "cell_type": "code",
   "execution_count": 148,
   "metadata": {},
   "outputs": [
    {
     "name": "stdout",
     "output_type": "stream",
     "text": [
      "KNeighborsClassifier\n",
      "                     Not RainTomorrow     RainTomorrow \n",
      "    Not RainTomorrow           3648.0            717.0 \n",
      "        RainTomorrow           1128.0           3206.0 \n"
     ]
    }
   ],
   "source": [
    "knn = KNeighborsClassifier(n_neighbors=200).fit(X_train_selected, y_train)\n",
    "knn_predicted = knn.predict(X_test_selected)\n",
    "confusion_knn = confusion_matrix(y_test, knn_predicted)\n",
    "print(\"KNeighborsClassifier\")\n",
    "print_cm(confusion_knn, ['Not RainTomorrow', 'RainTomorrow'])"
   ]
  },
  {
   "cell_type": "code",
   "execution_count": 149,
   "metadata": {},
   "outputs": [
    {
     "name": "stdout",
     "output_type": "stream",
     "text": [
      "KNeighborsClassifier\n",
      "                  precision    recall  f1-score   support\n",
      "\n",
      "Not RainTomorrow       0.76      0.84      0.80      4365\n",
      "    RainTomorrow       0.82      0.74      0.78      4334\n",
      "\n",
      "        accuracy                           0.79      8699\n",
      "       macro avg       0.79      0.79      0.79      8699\n",
      "    weighted avg       0.79      0.79      0.79      8699\n",
      "\n"
     ]
    }
   ],
   "source": [
    "print(\"KNeighborsClassifier\")\n",
    "print(classification_report(y_test, knn_predicted, target_names=target_names))"
   ]
  },
  {
   "cell_type": "code",
   "execution_count": 150,
   "metadata": {},
   "outputs": [
    {
     "name": "stdout",
     "output_type": "stream",
     "text": [
      "LogisticRegression\n",
      "                     Not RainTomorrow     RainTomorrow \n",
      "    Not RainTomorrow           3496.0            869.0 \n",
      "        RainTomorrow            922.0           3412.0 \n"
     ]
    },
    {
     "name": "stderr",
     "output_type": "stream",
     "text": [
      "C:\\ProgramData\\Anaconda3\\lib\\site-packages\\sklearn\\linear_model\\_logistic.py:940: ConvergenceWarning: lbfgs failed to converge (status=1):\n",
      "STOP: TOTAL NO. of ITERATIONS REACHED LIMIT.\n",
      "\n",
      "Increase the number of iterations (max_iter) or scale the data as shown in:\n",
      "    https://scikit-learn.org/stable/modules/preprocessing.html\n",
      "Please also refer to the documentation for alternative solver options:\n",
      "    https://scikit-learn.org/stable/modules/linear_model.html#logistic-regression\n",
      "  extra_warning_msg=_LOGISTIC_SOLVER_CONVERGENCE_MSG)\n"
     ]
    }
   ],
   "source": [
    "lr = LogisticRegression(max_iter=300).fit(X_train_selected, y_train)\n",
    "lr_predicted = lr.predict(X_test_selected)\n",
    "confusion_lr = confusion_matrix(y_test, lr_predicted)\n",
    "print(\"LogisticRegression\")\n",
    "print_cm(confusion_lr, ['Not RainTomorrow', 'RainTomorrow'])"
   ]
  },
  {
   "cell_type": "code",
   "execution_count": 151,
   "metadata": {
    "scrolled": true
   },
   "outputs": [
    {
     "name": "stdout",
     "output_type": "stream",
     "text": [
      "LogisticRegression\n",
      "                  precision    recall  f1-score   support\n",
      "\n",
      "Not RainTomorrow       0.79      0.80      0.80      4365\n",
      "    RainTomorrow       0.80      0.79      0.79      4334\n",
      "\n",
      "        accuracy                           0.79      8699\n",
      "       macro avg       0.79      0.79      0.79      8699\n",
      "    weighted avg       0.79      0.79      0.79      8699\n",
      "\n"
     ]
    }
   ],
   "source": [
    "print(\"LogisticRegression\")\n",
    "print(classification_report(y_test, lr_predicted, target_names=target_names))"
   ]
  },
  {
   "cell_type": "code",
   "execution_count": 152,
   "metadata": {},
   "outputs": [
    {
     "name": "stdout",
     "output_type": "stream",
     "text": [
      "DecisionTreeClassifier\n",
      "                     Not RainTomorrow     RainTomorrow \n",
      "    Not RainTomorrow           3318.0           1047.0 \n",
      "        RainTomorrow           1002.0           3332.0 \n"
     ]
    }
   ],
   "source": [
    "dt = DecisionTreeClassifier(max_depth=10).fit(X_train_selected, y_train)\n",
    "tree_predicted = dt.predict(X_test_selected)\n",
    "confusion_dt = confusion_matrix(y_test, tree_predicted)\n",
    "print(\"DecisionTreeClassifier\")\n",
    "print_cm(confusion_dt, ['Not RainTomorrow', 'RainTomorrow'])"
   ]
  },
  {
   "cell_type": "code",
   "execution_count": 153,
   "metadata": {},
   "outputs": [
    {
     "name": "stdout",
     "output_type": "stream",
     "text": [
      "DecisionTreeClassifier\n",
      "                  precision    recall  f1-score   support\n",
      "\n",
      "Not RainTomorrow       0.77      0.76      0.76      4365\n",
      "    RainTomorrow       0.76      0.77      0.76      4334\n",
      "\n",
      "        accuracy                           0.76      8699\n",
      "       macro avg       0.76      0.76      0.76      8699\n",
      "    weighted avg       0.76      0.76      0.76      8699\n",
      "\n"
     ]
    }
   ],
   "source": [
    "print(\"DecisionTreeClassifier\")\n",
    "print(classification_report(y_test, tree_predicted, target_names=target_names))"
   ]
  },
  {
   "cell_type": "code",
   "execution_count": 154,
   "metadata": {},
   "outputs": [
    {
     "name": "stdout",
     "output_type": "stream",
     "text": [
      "SVM\n",
      "                     Not RainTomorrow     RainTomorrow \n",
      "    Not RainTomorrow           3518.0            847.0 \n",
      "        RainTomorrow           1051.0           3283.0 \n"
     ]
    }
   ],
   "source": [
    "svm = SVC().fit(X_train_selected, y_train)\n",
    "svm_predicted_mc = svm.predict(X_test_selected)\n",
    "confusion_mc = confusion_matrix(y_test, svm_predicted_mc)\n",
    "print(\"SVM\")\n",
    "print_cm(confusion_mc, ['Not RainTomorrow', 'RainTomorrow'])"
   ]
  },
  {
   "cell_type": "code",
   "execution_count": 155,
   "metadata": {},
   "outputs": [
    {
     "name": "stdout",
     "output_type": "stream",
     "text": [
      "SVM\n",
      "                  precision    recall  f1-score   support\n",
      "\n",
      "Not RainTomorrow       0.77      0.81      0.79      4365\n",
      "    RainTomorrow       0.79      0.76      0.78      4334\n",
      "\n",
      "        accuracy                           0.78      8699\n",
      "       macro avg       0.78      0.78      0.78      8699\n",
      "    weighted avg       0.78      0.78      0.78      8699\n",
      "\n"
     ]
    }
   ],
   "source": [
    "print(\"SVM\")\n",
    "print(classification_report(y_test, svm_predicted_mc, target_names=target_names))"
   ]
  },
  {
   "cell_type": "code",
   "execution_count": 156,
   "metadata": {},
   "outputs": [
    {
     "name": "stdout",
     "output_type": "stream",
     "text": [
      "RandomForestClassifier\n",
      "                     Not RainTomorrow     RainTomorrow \n",
      "    Not RainTomorrow           3388.0            977.0 \n",
      "        RainTomorrow            827.0           3507.0 \n"
     ]
    }
   ],
   "source": [
    "rnd_clf = RandomForestClassifier(n_estimators=500, max_leaf_nodes=32, n_jobs=-1, random_state=42)\n",
    "rnd_clf.fit(X_train_selected, y_train)\n",
    "y_pred_rf = rnd_clf.predict(X_test_selected)\n",
    "confusion_mc = confusion_matrix(y_test, y_pred_rf)\n",
    "print(\"RandomForestClassifier\")\n",
    "print_cm(confusion_mc, ['Not RainTomorrow', 'RainTomorrow'])"
   ]
  },
  {
   "cell_type": "code",
   "execution_count": 157,
   "metadata": {
    "scrolled": true
   },
   "outputs": [
    {
     "name": "stdout",
     "output_type": "stream",
     "text": [
      "RandomForestClassifier\n",
      "                  precision    recall  f1-score   support\n",
      "\n",
      "Not RainTomorrow       0.80      0.78      0.79      4365\n",
      "    RainTomorrow       0.78      0.81      0.80      4334\n",
      "\n",
      "        accuracy                           0.79      8699\n",
      "       macro avg       0.79      0.79      0.79      8699\n",
      "    weighted avg       0.79      0.79      0.79      8699\n",
      "\n"
     ]
    }
   ],
   "source": [
    "print(\"RandomForestClassifier\")\n",
    "print(classification_report(y_test, y_pred_rf, target_names=target_names))"
   ]
  },
  {
   "cell_type": "code",
   "execution_count": 158,
   "metadata": {},
   "outputs": [
    {
     "name": "stdout",
     "output_type": "stream",
     "text": [
      "[2.88953666e-02 1.18704799e-02 2.76877223e-02 2.21784147e-02\n",
      " 4.22290833e-01 6.61547438e-02 1.33254403e-02 1.47758345e-02\n",
      " 2.77707008e-02 1.73216331e-01 2.05203164e-02 9.44763643e-02\n",
      " 1.09256213e-02 2.50178305e-02 1.53238422e-02 6.61416075e-04\n",
      " 1.81357314e-03 1.69056332e-03 8.13608910e-04 8.99135911e-04\n",
      " 1.60407831e-03 7.22328461e-03 4.43669144e-03 0.00000000e+00\n",
      " 2.38800236e-03 7.45272127e-04 1.51576669e-03 1.65998127e-03\n",
      " 1.18784928e-04]\n",
      "29\n"
     ]
    },
    {
     "data": {
      "image/png": "[encoded data removed]",
      "text/plain": [
       "<Figure size 432x288 with 1 Axes>"
      ]
     },
     "metadata": {
      "needs_background": "light"
     },
     "output_type": "display_data"
    }
   ],
   "source": [
    "print(dt.feature_importances_)\n",
    "n_features = X_train_selected.shape[1]\n",
    "print(n_features)\n",
    "plt.barh(range(n_features),dt.feature_importances_, align='center', height=1)\n",
    "plt.yticks(np.arange(n_features), AllData.columns[1:])\n",
    "plt.xlabel('Feature Importance')\n",
    "plt.ylabel('Feature')\n",
    "plt.show()"
   ]
  },
  {
   "cell_type": "markdown",
   "metadata": {},
   "source": [
    "# pipeline"
   ]
  },
  {
   "cell_type": "markdown",
   "metadata": {},
   "source": [
    "#### LogisticRegression"
   ]
  },
  {
   "cell_type": "code",
   "execution_count": 160,
   "metadata": {},
   "outputs": [],
   "source": [
    "pip = make_pipeline(PCA(n_components=25),MinMaxScaler(),LogisticRegression(max_iter=500))\n",
    "\n",
    "pip.fit(X_train_selected, y_train)\n",
    "\n",
    "pip_pre = pip.predict(X_test_selected)"
   ]
  },
  {
   "cell_type": "code",
   "execution_count": 161,
   "metadata": {},
   "outputs": [
    {
     "name": "stdout",
     "output_type": "stream",
     "text": [
      "Cross-validation (accuracy) [0.80611424 0.7851971  0.80933226 0.81174578 0.79565567 0.79871176\n",
      " 0.78180354]\n",
      "Cross-validation (precision) [0.815      0.79431438 0.82931034 0.80701754 0.80298013 0.80295567\n",
      " 0.79292929]\n",
      "Cross-validation (recall) [0.78998384 0.76736672 0.77705977 0.8174475  0.78225806 0.78998384\n",
      " 0.76090468]\n",
      "Cross-validation (AUC) [0.89777505 0.87164212 0.88714221 0.89210006 0.88338166 0.88406973\n",
      " 0.87037292]\n"
     ]
    }
   ],
   "source": [
    "scores = cross_val_score(pip, X_test_selected, y_test, cv=7)\n",
    "print('Cross-validation (accuracy)', scores)\n",
    "\n",
    "scores = cross_val_score(pip, X_test_selected, y_test,cv=7, scoring = 'precision')\n",
    "print('Cross-validation (precision)', scores)\n",
    "\n",
    "scores = cross_val_score(pip, X_test_selected, y_test,cv=7, scoring = 'recall')\n",
    "print('Cross-validation (recall)', scores)\n",
    "\n",
    "scores = cross_val_score(pip, X_test_selected, y_test, cv=7, scoring = 'roc_auc')\n",
    "print('Cross-validation (AUC)', scores)"
   ]
  },
  {
   "cell_type": "markdown",
   "metadata": {},
   "source": [
    "#### SVM"
   ]
  },
  {
   "cell_type": "code",
   "execution_count": 162,
   "metadata": {},
   "outputs": [],
   "source": [
    "pip1 = make_pipeline(MinMaxScaler(),SVC(C=1e9,gamma=1e-07)) # PCA()×\n",
    "\n",
    "pip1.fit(X_train_selected, y_train)\n",
    "\n",
    "pip_pre = pip1.predict(X_test_selected)"
   ]
  },
  {
   "cell_type": "code",
   "execution_count": 163,
   "metadata": {},
   "outputs": [
    {
     "name": "stdout",
     "output_type": "stream",
     "text": [
      "Cross-validation (accuracy) [0.79034483 0.78942529 0.79034483 0.79530819]\n",
      "Cross-validation (precision) [0.79381443 0.78874539 0.7859745  0.79212454]\n",
      "Cross-validation (recall) [0.7820868  0.78874539 0.79612546 0.79870729]\n",
      "Cross-validation (AUC) [0.88087713 0.88376807 0.87420728 0.87270905]\n"
     ]
    }
   ],
   "source": [
    "scores = cross_val_score(pip1, X_test_selected, y_test, cv=4) # CV = [3,5,7]×\n",
    "print('Cross-validation (accuracy)', scores)\n",
    "\n",
    "scores = cross_val_score(pip1, X_test_selected, y_test,cv=4, scoring = 'precision') # CV = [3,5,7]×\n",
    "print('Cross-validation (precision)', scores)\n",
    "\n",
    "scores = cross_val_score(pip1, X_test_selected, y_test,cv=4, scoring = 'recall') # CV = [3,5,7]×\n",
    "print('Cross-validation (recall)', scores)\n",
    "\n",
    "scores = cross_val_score(pip1, X_test_selected, y_test, cv=4, scoring = 'roc_auc') # CV = [3,5,7]×\n",
    "print('Cross-validation (AUC)', scores)"
   ]
  },
  {
   "cell_type": "markdown",
   "metadata": {},
   "source": [
    "# GridSearchCV"
   ]
  },
  {
   "cell_type": "code",
   "execution_count": 164,
   "metadata": {},
   "outputs": [],
   "source": [
    "param_grid = {'pca__svd_solver': ['auto', 'full', 'arpack', 'randomized'],\n",
    "              'logisticregression__C': [0.01, 0.1, 1,10],\n",
    "              'logisticregression__max_iter': [300, 500, 1000,2000],\n",
    "              'logisticregression__solver': ['newton-cg', 'lbfgs', 'liblinear', 'sag', 'saga']\n",
    "             }\n",
    "grid1 = GridSearchCV(pip, param_grid)\n",
    "\n",
    "gri_pre = grid1.fit(X_train_selected,y_train)"
   ]
  },
  {
   "cell_type": "code",
   "execution_count": 165,
   "metadata": {},
   "outputs": [
    {
     "name": "stdout",
     "output_type": "stream",
     "text": [
      "the best parameters {'logisticregression__C': 10, 'logisticregression__max_iter': 300, 'logisticregression__solver': 'saga', 'pca__svd_solver': 'arpack'}\n",
      "best score :  0.8025379139585269\n",
      "Test set AUC:  0.8843886560407572\n"
     ]
    }
   ],
   "source": [
    "print(\"the best parameters\",grid1.best_params_)\n",
    "\n",
    "print('best score : ', grid1.best_score_)\n",
    "\n",
    "y_decision_fn_scores_auc = grid1.decision_function(X_test_selected) \n",
    "\n",
    "print('Test set AUC: ', roc_auc_score(y_test, y_decision_fn_scores_auc))"
   ]
  },
  {
   "cell_type": "code",
   "execution_count": 166,
   "metadata": {},
   "outputs": [
    {
     "name": "stdout",
     "output_type": "stream",
     "text": [
      "Best estimator:\n",
      "Pipeline(memory=None,\n",
      "         steps=[('pca',\n",
      "                 PCA(copy=True, iterated_power='auto', n_components=25,\n",
      "                     random_state=None, svd_solver='arpack', tol=0.0,\n",
      "                     whiten=False)),\n",
      "                ('minmaxscaler', MinMaxScaler(copy=True, feature_range=(0, 1))),\n",
      "                ('logisticregression',\n",
      "                 LogisticRegression(C=10, class_weight=None, dual=False,\n",
      "                                    fit_intercept=True, intercept_scaling=1,\n",
      "                                    l1_ratio=None, max_iter=300,\n",
      "                                    multi_class='auto', n_jobs=None,\n",
      "                                    penalty='l2', random_state=None,\n",
      "                                    solver='saga', tol=0.0001, verbose=0,\n",
      "                                    warm_start=False))],\n",
      "         verbose=False)\n"
     ]
    }
   ],
   "source": [
    "print(\"Best estimator:\\n{}\".format(grid1.best_estimator_))"
   ]
  },
  {
   "cell_type": "code",
   "execution_count": 167,
   "metadata": {},
   "outputs": [
    {
     "name": "stdout",
     "output_type": "stream",
     "text": [
      "Cross-validation (accuracy) [0.79885057 0.80229885 0.80632184 0.79367816 0.79643473]\n",
      "Cross-validation (precision) [0.81257557 0.81620314 0.80600462 0.79812207 0.804038  ]\n",
      "Cross-validation (recall) [0.77508651 0.77854671 0.80507497 0.78431373 0.7817552 ]\n",
      "Cross-validation (AUC) [0.88826661 0.88560308 0.88344425 0.88449988 0.87990762]\n"
     ]
    }
   ],
   "source": [
    "scores = cross_val_score(grid1.best_estimator_, X_test_selected, y_test, cv=5)\n",
    "print('Cross-validation (accuracy)', scores)\n",
    "\n",
    "scores = cross_val_score(grid1.best_estimator_, X_test_selected, y_test,cv=5, scoring = 'precision')\n",
    "print('Cross-validation (precision)', scores)\n",
    "\n",
    "scores = cross_val_score(grid1.best_estimator_, X_test_selected, y_test,cv=5, scoring = 'recall')\n",
    "print('Cross-validation (recall)', scores)\n",
    "\n",
    "scores = cross_val_score(grid1.best_estimator_, X_test_selected, y_test, cv=5, scoring = 'roc_auc')\n",
    "print('Cross-validation (AUC)', scores)"
   ]
  },
  {
   "cell_type": "code",
   "execution_count": 168,
   "metadata": {},
   "outputs": [
    {
     "data": {
      "text/plain": [
       "<matplotlib.legend.Legend at 0x23e9ec868c8>"
      ]
     },
     "execution_count": 168,
     "metadata": {},
     "output_type": "execute_result"
    },
    {
     "data": {
      "image/png": "[encoded data removed]",
      "text/plain": [
       "<Figure size 1152x432 with 1 Axes>"
      ]
     },
     "metadata": {
      "needs_background": "light"
     },
     "output_type": "display_data"
    }
   ],
   "source": [
    "fig, ax = plt.subplots(1, 1, figsize=(16, 6))\n",
    "fig.subplots_adjust(left=0.0625, right=0.95, wspace=0.1)\n",
    "\n",
    "\n",
    "N, train_lc, val_lc = learning_curve(grid1.best_estimator_,\n",
    "                                     X_train_selected, y_train, cv=3,\n",
    "                                     train_sizes=np.linspace(0.3, 1, 50))\n",
    "\n",
    "ax.plot(N, np.mean(train_lc, 1), color='blue', label='training score')\n",
    "ax.plot(N, np.mean(val_lc, 1), color='red', label='validation score')\n",
    "ax.hlines(np.mean([train_lc[-1], val_lc[-1]]), N[0], N[-1],\n",
    "             color='gray', linestyle='dashed')\n",
    "\n",
    "ax.set_ylim(0, 1)\n",
    "ax.set_xlim(N[0], N[-1])\n",
    "ax.set_xlabel('training size')\n",
    "ax.set_ylabel('score')\n",
    "ax.legend(loc='best')"
   ]
  },
  {
   "cell_type": "code",
   "execution_count": null,
   "metadata": {},
   "outputs": [],
   "source": []
  },
  {
   "cell_type": "code",
   "execution_count": 169,
   "metadata": {},
   "outputs": [
    {
     "name": "stdout",
     "output_type": "stream",
     "text": [
      "X_train.shape: (16155, 58)\n",
      "X_train_selected.shape: (16155, 32)\n"
     ]
    }
   ],
   "source": [
    "sel_var = VarianceThreshold(threshold=(.8 * (1 - .8)))\n",
    "sel_var.fit(X_train, y_train)\n",
    "X_train_selected = sel_var.transform(X_train)\n",
    "print(\"X_train.shape: {}\".format(X_train.shape))\n",
    "print(\"X_train_selected.shape: {}\".format(X_train_selected.shape))"
   ]
  },
  {
   "cell_type": "code",
   "execution_count": 170,
   "metadata": {},
   "outputs": [
    {
     "name": "stdout",
     "output_type": "stream",
     "text": [
      "[ True  True  True  True  True  True  True  True  True  True  True  True\n",
      "  True  True  True  True  True  True  True  True  True  True  True  True\n",
      "  True  True  True  True  True  True  True  True False False False False\n",
      " False False False False False False False False False False False False\n",
      " False False False False False False False False False False]\n"
     ]
    },
    {
     "data": {
      "text/plain": [
       "([], <a list of 0 Text yticklabel objects>)"
      ]
     },
     "execution_count": 170,
     "metadata": {},
     "output_type": "execute_result"
    },
    {
     "data": {
      "image/png": "[encoded data removed]",
      "text/plain": [
       "<Figure size 1152x144 with 1 Axes>"
      ]
     },
     "metadata": {
      "needs_background": "light"
     },
     "output_type": "display_data"
    }
   ],
   "source": [
    "mask = sel_var.get_support()\n",
    "print(mask)\n",
    "plt.matshow(mask.reshape(1, -1), cmap='gray_r')\n",
    "plt.xlabel(\"Sample index\")\n",
    "plt.yticks(())"
   ]
  },
  {
   "cell_type": "code",
   "execution_count": 175,
   "metadata": {},
   "outputs": [],
   "source": [
    "X_test_selected = sel_var.transform(X_test)"
   ]
  },
  {
   "cell_type": "code",
   "execution_count": 176,
   "metadata": {},
   "outputs": [
    {
     "name": "stdout",
     "output_type": "stream",
     "text": [
      "DummyClassifier with stratified strategy\n",
      "                     Not RainTomorrow     RainTomorrow \n",
      "    Not RainTomorrow           2152.0           2213.0 \n",
      "        RainTomorrow           2230.0           2104.0 \n"
     ]
    }
   ],
   "source": [
    "dummy_majority = DummyClassifier(strategy='stratified').fit(X_train_selected, y_train)\n",
    "y_majority_predicted = dummy_majority.predict(X_test_selected)\n",
    "confusion_dummy_majority = confusion_matrix(y_test, y_majority_predicted)\n",
    "print(\"DummyClassifier with stratified strategy\")\n",
    "print_cm(confusion_dummy_majority, ['Not RainTomorrow', 'RainTomorrow'])"
   ]
  },
  {
   "cell_type": "code",
   "execution_count": 177,
   "metadata": {},
   "outputs": [
    {
     "name": "stdout",
     "output_type": "stream",
     "text": [
      "DummyClassifier with stratified strategy\n",
      "                  precision    recall  f1-score   support\n",
      "\n",
      "Not RainTomorrow       0.49      0.49      0.49      4365\n",
      "    RainTomorrow       0.49      0.49      0.49      4334\n",
      "\n",
      "        accuracy                           0.49      8699\n",
      "       macro avg       0.49      0.49      0.49      8699\n",
      "    weighted avg       0.49      0.49      0.49      8699\n",
      "\n"
     ]
    }
   ],
   "source": [
    "print(\"DummyClassifier with stratified strategy\")\n",
    "print(classification_report(y_test, y_majority_predicted, target_names=target_names))"
   ]
  },
  {
   "cell_type": "code",
   "execution_count": 178,
   "metadata": {},
   "outputs": [
    {
     "name": "stdout",
     "output_type": "stream",
     "text": [
      "KNeighborsClassifier\n",
      "                     Not RainTomorrow     RainTomorrow \n",
      "    Not RainTomorrow           3663.0            702.0 \n",
      "        RainTomorrow           1156.0           3178.0 \n"
     ]
    }
   ],
   "source": [
    "knn = KNeighborsClassifier(n_neighbors=200).fit(X_train_selected, y_train)\n",
    "knn_predicted = knn.predict(X_test_selected)\n",
    "confusion_knn = confusion_matrix(y_test, knn_predicted)\n",
    "print(\"KNeighborsClassifier\")\n",
    "print_cm(confusion_knn, ['Not RainTomorrow', 'RainTomorrow'])"
   ]
  },
  {
   "cell_type": "code",
   "execution_count": 179,
   "metadata": {},
   "outputs": [
    {
     "name": "stdout",
     "output_type": "stream",
     "text": [
      "KNeighborsClassifier\n",
      "                  precision    recall  f1-score   support\n",
      "\n",
      "Not RainTomorrow       0.76      0.84      0.80      4365\n",
      "    RainTomorrow       0.82      0.73      0.77      4334\n",
      "\n",
      "        accuracy                           0.79      8699\n",
      "       macro avg       0.79      0.79      0.79      8699\n",
      "    weighted avg       0.79      0.79      0.79      8699\n",
      "\n"
     ]
    }
   ],
   "source": [
    "print(\"KNeighborsClassifier\")\n",
    "print(classification_report(y_test, knn_predicted, target_names=target_names))"
   ]
  },
  {
   "cell_type": "code",
   "execution_count": 180,
   "metadata": {},
   "outputs": [
    {
     "name": "stdout",
     "output_type": "stream",
     "text": [
      "LogisticRegression\n",
      "                     Not RainTomorrow     RainTomorrow \n",
      "    Not RainTomorrow           3516.0            849.0 \n",
      "        RainTomorrow            935.0           3399.0 \n"
     ]
    },
    {
     "name": "stderr",
     "output_type": "stream",
     "text": [
      "C:\\ProgramData\\Anaconda3\\lib\\site-packages\\sklearn\\linear_model\\_logistic.py:940: ConvergenceWarning: lbfgs failed to converge (status=1):\n",
      "STOP: TOTAL NO. of ITERATIONS REACHED LIMIT.\n",
      "\n",
      "Increase the number of iterations (max_iter) or scale the data as shown in:\n",
      "    https://scikit-learn.org/stable/modules/preprocessing.html\n",
      "Please also refer to the documentation for alternative solver options:\n",
      "    https://scikit-learn.org/stable/modules/linear_model.html#logistic-regression\n",
      "  extra_warning_msg=_LOGISTIC_SOLVER_CONVERGENCE_MSG)\n"
     ]
    }
   ],
   "source": [
    "lr = LogisticRegression(max_iter=300).fit(X_train_selected, y_train)\n",
    "lr_predicted = lr.predict(X_test_selected)\n",
    "confusion_lr = confusion_matrix(y_test, lr_predicted)\n",
    "print(\"LogisticRegression\")\n",
    "print_cm(confusion_lr, ['Not RainTomorrow', 'RainTomorrow'])"
   ]
  },
  {
   "cell_type": "code",
   "execution_count": 181,
   "metadata": {
    "scrolled": true
   },
   "outputs": [
    {
     "name": "stdout",
     "output_type": "stream",
     "text": [
      "LogisticRegression\n",
      "                  precision    recall  f1-score   support\n",
      "\n",
      "Not RainTomorrow       0.79      0.81      0.80      4365\n",
      "    RainTomorrow       0.80      0.78      0.79      4334\n",
      "\n",
      "        accuracy                           0.79      8699\n",
      "       macro avg       0.80      0.79      0.79      8699\n",
      "    weighted avg       0.80      0.79      0.79      8699\n",
      "\n"
     ]
    }
   ],
   "source": [
    "print(\"LogisticRegression\")\n",
    "print(classification_report(y_test, lr_predicted, target_names=target_names))"
   ]
  },
  {
   "cell_type": "code",
   "execution_count": 182,
   "metadata": {},
   "outputs": [
    {
     "name": "stdout",
     "output_type": "stream",
     "text": [
      "DecisionTreeClassifier\n",
      "                     Not RainTomorrow     RainTomorrow \n",
      "    Not RainTomorrow           3373.0            992.0 \n",
      "        RainTomorrow           1053.0           3281.0 \n"
     ]
    }
   ],
   "source": [
    "dt = DecisionTreeClassifier(max_depth=10).fit(X_train_selected, y_train)\n",
    "tree_predicted = dt.predict(X_test_selected)\n",
    "confusion_dt = confusion_matrix(y_test, tree_predicted)\n",
    "print(\"DecisionTreeClassifier\")\n",
    "print_cm(confusion_dt, ['Not RainTomorrow', 'RainTomorrow'])"
   ]
  },
  {
   "cell_type": "code",
   "execution_count": 183,
   "metadata": {},
   "outputs": [
    {
     "name": "stdout",
     "output_type": "stream",
     "text": [
      "DecisionTreeClassifier\n",
      "                  precision    recall  f1-score   support\n",
      "\n",
      "Not RainTomorrow       0.76      0.77      0.77      4365\n",
      "    RainTomorrow       0.77      0.76      0.76      4334\n",
      "\n",
      "        accuracy                           0.76      8699\n",
      "       macro avg       0.76      0.76      0.76      8699\n",
      "    weighted avg       0.76      0.76      0.76      8699\n",
      "\n"
     ]
    }
   ],
   "source": [
    "print(\"DecisionTreeClassifier\")\n",
    "print(classification_report(y_test, tree_predicted, target_names=target_names))"
   ]
  },
  {
   "cell_type": "code",
   "execution_count": 184,
   "metadata": {},
   "outputs": [
    {
     "name": "stdout",
     "output_type": "stream",
     "text": [
      "SVM\n",
      "                     Not RainTomorrow     RainTomorrow \n",
      "    Not RainTomorrow           3400.0            965.0 \n",
      "        RainTomorrow           1011.0           3323.0 \n"
     ]
    }
   ],
   "source": [
    "svm = SVC().fit(X_train_selected, y_train)\n",
    "svm_predicted_mc = svm.predict(X_test_selected)\n",
    "confusion_mc = confusion_matrix(y_test, svm_predicted_mc)\n",
    "print(\"SVM\")\n",
    "print_cm(confusion_mc, ['Not RainTomorrow', 'RainTomorrow'])"
   ]
  },
  {
   "cell_type": "code",
   "execution_count": 185,
   "metadata": {},
   "outputs": [
    {
     "name": "stdout",
     "output_type": "stream",
     "text": [
      "SVM\n",
      "                  precision    recall  f1-score   support\n",
      "\n",
      "Not RainTomorrow       0.77      0.78      0.77      4365\n",
      "    RainTomorrow       0.77      0.77      0.77      4334\n",
      "\n",
      "        accuracy                           0.77      8699\n",
      "       macro avg       0.77      0.77      0.77      8699\n",
      "    weighted avg       0.77      0.77      0.77      8699\n",
      "\n"
     ]
    }
   ],
   "source": [
    "print(\"SVM\")\n",
    "print(classification_report(y_test, svm_predicted_mc, target_names=target_names))"
   ]
  },
  {
   "cell_type": "code",
   "execution_count": 186,
   "metadata": {},
   "outputs": [
    {
     "name": "stdout",
     "output_type": "stream",
     "text": [
      "RandomForestClassifier\n",
      "                     Not RainTomorrow     RainTomorrow \n",
      "    Not RainTomorrow           3381.0            984.0 \n",
      "        RainTomorrow            820.0           3514.0 \n"
     ]
    }
   ],
   "source": [
    "rnd_clf = RandomForestClassifier(n_estimators=500, max_leaf_nodes=32, n_jobs=-1, random_state=42)\n",
    "rnd_clf.fit(X_train_selected, y_train)\n",
    "y_pred_rf = rnd_clf.predict(X_test_selected)\n",
    "confusion_mc = confusion_matrix(y_test, y_pred_rf)\n",
    "print(\"RandomForestClassifier\")\n",
    "print_cm(confusion_mc, ['Not RainTomorrow', 'RainTomorrow'])"
   ]
  },
  {
   "cell_type": "code",
   "execution_count": 187,
   "metadata": {
    "scrolled": true
   },
   "outputs": [
    {
     "name": "stdout",
     "output_type": "stream",
     "text": [
      "RandomForestClassifier\n",
      "                  precision    recall  f1-score   support\n",
      "\n",
      "Not RainTomorrow       0.80      0.77      0.79      4365\n",
      "    RainTomorrow       0.78      0.81      0.80      4334\n",
      "\n",
      "        accuracy                           0.79      8699\n",
      "       macro avg       0.79      0.79      0.79      8699\n",
      "    weighted avg       0.79      0.79      0.79      8699\n",
      "\n"
     ]
    }
   ],
   "source": [
    "print(\"RandomForestClassifier\")\n",
    "print(classification_report(y_test, y_pred_rf, target_names=target_names))"
   ]
  },
  {
   "cell_type": "code",
   "execution_count": 188,
   "metadata": {},
   "outputs": [
    {
     "name": "stdout",
     "output_type": "stream",
     "text": [
      "[2.00967285e-02 1.21991513e-02 2.53567619e-02 2.06088730e-02\n",
      " 4.15387988e-01 6.13645820e-02 9.07940855e-03 1.40538384e-02\n",
      " 2.87218676e-02 1.69960823e-01 1.53229911e-02 8.83296896e-02\n",
      " 1.06907182e-02 2.24380399e-02 1.61760288e-02 1.55636335e-02\n",
      " 8.10658647e-04 9.56652777e-03 7.06783182e-03 1.02901840e-02\n",
      " 3.46759950e-03 1.02226318e-03 9.35585776e-04 2.41789708e-03\n",
      " 2.31080041e-03 1.93003218e-03 1.71843989e-03 5.47084399e-03\n",
      " 4.50878003e-03 1.63313018e-03 3.49036840e-04 1.14926504e-03]\n",
      "32\n"
     ]
    },
    {
     "data": {
      "image/png": "[encoded data removed]",
      "text/plain": [
       "<Figure size 432x288 with 1 Axes>"
      ]
     },
     "metadata": {
      "needs_background": "light"
     },
     "output_type": "display_data"
    }
   ],
   "source": [
    "print(dt.feature_importances_)\n",
    "n_features = X_train_selected.shape[1]\n",
    "print(n_features)\n",
    "plt.barh(range(n_features),dt.feature_importances_, align='center', height=1)\n",
    "plt.yticks(np.arange(n_features), AllData.columns[1:])\n",
    "plt.xlabel('Feature Importance')\n",
    "plt.ylabel('Feature')\n",
    "plt.show()"
   ]
  },
  {
   "cell_type": "markdown",
   "metadata": {},
   "source": [
    "# pipeline"
   ]
  },
  {
   "cell_type": "markdown",
   "metadata": {},
   "source": [
    "#### LogisticRegression"
   ]
  },
  {
   "cell_type": "code",
   "execution_count": 189,
   "metadata": {},
   "outputs": [],
   "source": [
    "pip = make_pipeline(PCA(n_components=25),MinMaxScaler(),LogisticRegression(max_iter=500))\n",
    "\n",
    "pip.fit(X_train_selected, y_train)\n",
    "\n",
    "pip_pre = pip.predict(X_test_selected)"
   ]
  },
  {
   "cell_type": "code",
   "execution_count": 190,
   "metadata": {},
   "outputs": [
    {
     "name": "stdout",
     "output_type": "stream",
     "text": [
      "Cross-validation (accuracy) [0.7996782  0.78358809 0.80128721 0.81335479 0.79565567 0.7979066\n",
      " 0.77536232]\n",
      "Cross-validation (precision) [0.80528053 0.79560811 0.81740614 0.80376766 0.80602007 0.79773463\n",
      " 0.78911565]\n",
      "Cross-validation (recall) [0.78836834 0.76090468 0.77382876 0.82714055 0.77741935 0.79644588\n",
      " 0.74959612]\n",
      "Cross-validation (AUC) [0.89657895 0.86798393 0.88731826 0.89102046 0.88191891 0.88157257\n",
      " 0.86982058]\n"
     ]
    }
   ],
   "source": [
    "scores = cross_val_score(pip, X_test_selected, y_test, cv=7)\n",
    "print('Cross-validation (accuracy)', scores)\n",
    "\n",
    "scores = cross_val_score(pip, X_test_selected, y_test,cv=7, scoring = 'precision')\n",
    "print('Cross-validation (precision)', scores)\n",
    "\n",
    "scores = cross_val_score(pip, X_test_selected, y_test,cv=7, scoring = 'recall')\n",
    "print('Cross-validation (recall)', scores)\n",
    "\n",
    "scores = cross_val_score(pip, X_test_selected, y_test, cv=7, scoring = 'roc_auc')\n",
    "print('Cross-validation (AUC)', scores)"
   ]
  },
  {
   "cell_type": "markdown",
   "metadata": {},
   "source": [
    "#### SVM"
   ]
  },
  {
   "cell_type": "code",
   "execution_count": 191,
   "metadata": {},
   "outputs": [],
   "source": [
    "pip1 = make_pipeline(MinMaxScaler(),SVC(C=1e9,gamma=1e-07)) # PCA()×\n",
    "\n",
    "pip1.fit(X_train_selected, y_train)\n",
    "\n",
    "pip_pre = pip1.predict(X_test_selected)"
   ]
  },
  {
   "cell_type": "code",
   "execution_count": 192,
   "metadata": {},
   "outputs": [
    {
     "name": "stdout",
     "output_type": "stream",
     "text": [
      "Cross-validation (accuracy) [0.79218391 0.80321839 0.79770115 0.78886845]\n",
      "Cross-validation (precision) [0.79185939 0.80885122 0.80725191 0.78467153]\n",
      "Cross-validation (recall) [0.79039705 0.79243542 0.7804428  0.79409049]\n",
      "Cross-validation (AUC) [0.88141998 0.88718329 0.87568871 0.87438058]\n"
     ]
    }
   ],
   "source": [
    "scores = cross_val_score(pip1, X_test_selected, y_test, cv=4) # CV = [3,5,7]×\n",
    "print('Cross-validation (accuracy)', scores)\n",
    "\n",
    "scores = cross_val_score(pip1, X_test_selected, y_test,cv=4, scoring = 'precision') # CV = [3,5,7]×\n",
    "print('Cross-validation (precision)', scores)\n",
    "\n",
    "scores = cross_val_score(pip1, X_test_selected, y_test,cv=4, scoring = 'recall') # CV = [3,5,7]×\n",
    "print('Cross-validation (recall)', scores)\n",
    "\n",
    "scores = cross_val_score(pip1, X_test_selected, y_test, cv=4, scoring = 'roc_auc') # CV = [3,5,7]×\n",
    "print('Cross-validation (AUC)', scores)"
   ]
  },
  {
   "cell_type": "markdown",
   "metadata": {},
   "source": [
    "# GridSearchCV"
   ]
  },
  {
   "cell_type": "code",
   "execution_count": 193,
   "metadata": {},
   "outputs": [],
   "source": [
    "param_grid = {'pca__svd_solver': ['auto', 'full', 'arpack', 'randomized'],\n",
    "              'logisticregression__C': [0.01, 0.1, 1,10],\n",
    "              'logisticregression__max_iter': [300, 500, 1000,2000],\n",
    "              'logisticregression__solver': ['newton-cg', 'lbfgs', 'liblinear', 'sag', 'saga']\n",
    "             }\n",
    "grid1 = GridSearchCV(pip, param_grid)\n",
    "\n",
    "gri_pre = grid1.fit(X_train_selected,y_train)"
   ]
  },
  {
   "cell_type": "code",
   "execution_count": 194,
   "metadata": {},
   "outputs": [
    {
     "name": "stdout",
     "output_type": "stream",
     "text": [
      "the best parameters {'logisticregression__C': 10, 'logisticregression__max_iter': 300, 'logisticregression__solver': 'liblinear', 'pca__svd_solver': 'auto'}\n",
      "best score :  0.8035283194057568\n",
      "Test set AUC:  0.8837781763418897\n"
     ]
    }
   ],
   "source": [
    "print(\"the best parameters\",grid1.best_params_)\n",
    "\n",
    "print('best score : ', grid1.best_score_)\n",
    "\n",
    "y_decision_fn_scores_auc = grid1.decision_function(X_test_selected) \n",
    "\n",
    "print('Test set AUC: ', roc_auc_score(y_test, y_decision_fn_scores_auc))"
   ]
  },
  {
   "cell_type": "code",
   "execution_count": 195,
   "metadata": {},
   "outputs": [
    {
     "name": "stdout",
     "output_type": "stream",
     "text": [
      "Best estimator:\n",
      "Pipeline(memory=None,\n",
      "         steps=[('pca',\n",
      "                 PCA(copy=True, iterated_power='auto', n_components=25,\n",
      "                     random_state=None, svd_solver='auto', tol=0.0,\n",
      "                     whiten=False)),\n",
      "                ('minmaxscaler', MinMaxScaler(copy=True, feature_range=(0, 1))),\n",
      "                ('logisticregression',\n",
      "                 LogisticRegression(C=10, class_weight=None, dual=False,\n",
      "                                    fit_intercept=True, intercept_scaling=1,\n",
      "                                    l1_ratio=None, max_iter=300,\n",
      "                                    multi_class='auto', n_jobs=None,\n",
      "                                    penalty='l2', random_state=None,\n",
      "                                    solver='liblinear', tol=0.0001, verbose=0,\n",
      "                                    warm_start=False))],\n",
      "         verbose=False)\n"
     ]
    }
   ],
   "source": [
    "print(\"Best estimator:\\n{}\".format(grid1.best_estimator_))"
   ]
  },
  {
   "cell_type": "code",
   "execution_count": 196,
   "metadata": {},
   "outputs": [
    {
     "name": "stdout",
     "output_type": "stream",
     "text": [
      "Cross-validation (accuracy) [0.79655172 0.79712644 0.80517241 0.79770115 0.79010926]\n",
      "Cross-validation (precision) [0.80499405 0.81418093 0.80275229 0.80187573 0.80072029]\n",
      "Cross-validation (recall) [0.78085352 0.76816609 0.80738178 0.78892734 0.77020785]\n",
      "Cross-validation (AUC) [0.88681858 0.88472713 0.88342179 0.88169499 0.87880315]\n"
     ]
    }
   ],
   "source": [
    "scores = cross_val_score(grid1.best_estimator_, X_test_selected, y_test, cv=5)\n",
    "print('Cross-validation (accuracy)', scores)\n",
    "\n",
    "scores = cross_val_score(grid1.best_estimator_, X_test_selected, y_test,cv=5, scoring = 'precision')\n",
    "print('Cross-validation (precision)', scores)\n",
    "\n",
    "scores = cross_val_score(grid1.best_estimator_, X_test_selected, y_test,cv=5, scoring = 'recall')\n",
    "print('Cross-validation (recall)', scores)\n",
    "\n",
    "scores = cross_val_score(grid1.best_estimator_, X_test_selected, y_test, cv=5, scoring = 'roc_auc')\n",
    "print('Cross-validation (AUC)', scores)"
   ]
  },
  {
   "cell_type": "code",
   "execution_count": 197,
   "metadata": {},
   "outputs": [
    {
     "data": {
      "text/plain": [
       "<matplotlib.legend.Legend at 0x23e9eb5a988>"
      ]
     },
     "execution_count": 197,
     "metadata": {},
     "output_type": "execute_result"
    },
    {
     "data": {
      "image/png": "[encoded data removed]",
      "text/plain": [
       "<Figure size 1152x432 with 1 Axes>"
      ]
     },
     "metadata": {
      "needs_background": "light"
     },
     "output_type": "display_data"
    }
   ],
   "source": [
    "fig, ax = plt.subplots(1, 1, figsize=(16, 6))\n",
    "fig.subplots_adjust(left=0.0625, right=0.95, wspace=0.1)\n",
    "\n",
    "\n",
    "N, train_lc, val_lc = learning_curve(grid1.best_estimator_,\n",
    "                                     X_train_selected, y_train, cv=3,\n",
    "                                     train_sizes=np.linspace(0.3, 1, 50))\n",
    "\n",
    "ax.plot(N, np.mean(train_lc, 1), color='blue', label='training score')\n",
    "ax.plot(N, np.mean(val_lc, 1), color='red', label='validation score')\n",
    "ax.hlines(np.mean([train_lc[-1], val_lc[-1]]), N[0], N[-1],\n",
    "             color='gray', linestyle='dashed')\n",
    "\n",
    "ax.set_ylim(0, 1)\n",
    "ax.set_xlim(N[0], N[-1])\n",
    "ax.set_xlabel('training size')\n",
    "ax.set_ylabel('score')\n",
    "ax.legend(loc='best')"
   ]
  },
  {
   "cell_type": "code",
   "execution_count": null,
   "metadata": {},
   "outputs": [],
   "source": []
  },
  {
   "cell_type": "code",
   "execution_count": null,
   "metadata": {},
   "outputs": [],
   "source": []
  },
  {
   "cell_type": "markdown",
   "metadata": {},
   "source": [
    "# هي لسا ما ساويتا "
   ]
  },
  {
   "cell_type": "code",
   "execution_count": null,
   "metadata": {},
   "outputs": [],
   "source": [
    "select = SelectFromModel(\n",
    "    RandomForestClassifier(n_estimators=100, random_state=42),\n",
    "    threshold=\"median\")\n",
    "\n",
    "select.fit(X_train, y_train)\n",
    "X_train_l1 = select.transform(X_train)\n",
    "print(\"X_train.shape: {}\".format(X_train.shape))\n",
    "print(\"X_train_l1.shape: {}\".format(X_train_l1.shape))\n",
    "\n",
    "mask = select.get_support()\n",
    "# visualize the mask. black is True, white is False\n",
    "plt.matshow(mask.reshape(1, -1), cmap='gray_r')\n",
    "plt.xlabel(\"Sample index\")\n",
    "plt.yticks(())\n",
    "\n",
    "X_test_l1 = select.transform(X_test)\n",
    "score = LogisticRegression(max_iter=1000).fit(X_train_l1, y_train).score(X_test_l1, y_test)\n",
    "print(\"Test score: {:.3f}\".format(score))"
   ]
  },
  {
   "cell_type": "code",
   "execution_count": null,
   "metadata": {},
   "outputs": [],
   "source": []
  },
  {
   "cell_type": "code",
   "execution_count": null,
   "metadata": {},
   "outputs": [],
   "source": []
  },
  {
   "cell_type": "code",
   "execution_count": null,
   "metadata": {},
   "outputs": [],
   "source": []
  },
  {
   "cell_type": "code",
   "execution_count": null,
   "metadata": {},
   "outputs": [],
   "source": []
  }
 ],
 "metadata": {
  "kernelspec": {
   "display_name": "Python 3",
   "language": "python",
   "name": "python3"
  },
  "language_info": {
   "codemirror_mode": {
    "name": "ipython",
    "version": 3
   },
   "file_extension": ".py",
   "mimetype": "text/x-python",
   "name": "python",
   "nbconvert_exporter": "python",
   "pygments_lexer": "ipython3",
   "version": "3.7.6"
  }
 },
 "nbformat": 4,
 "nbformat_minor": 4
}
